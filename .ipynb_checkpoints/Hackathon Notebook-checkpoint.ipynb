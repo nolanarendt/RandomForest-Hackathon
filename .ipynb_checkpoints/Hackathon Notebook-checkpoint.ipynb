{
 "cells": [
  {
   "cell_type": "markdown",
   "metadata": {},
   "source": [
    "# Hackathon Good Fast Cheap\n",
    "## Group 7 Team Algorithm Constraint Using Random Forest\n",
    "### Group Members: Peter Yonka, Jessica Bow, and Nolan Arendt"
   ]
  },
  {
   "cell_type": "markdown",
   "metadata": {},
   "source": [
    "### Notebook Process\n",
    "1. Loading libraries\n",
    "2. Reading in data\n",
    "3. Data cleaning\n",
    "    - Removing ? and spaces in column names \n",
    "4. Cleaning check\n",
    "    - .Unique error checking\n",
    "5. Mapping\n",
    "6. Outlier Assessment\n",
    "7. Feature Engineering\n",
    "8. Dummify categorical columns\n",
    "9. Renaming of columns\n",
    "10. Correlation Matrix\n",
    "11. Model Prep.\n",
    "    - X and Y variables\n",
    "    - Baseline accuracy\n",
    "12. Train/test Split\n",
    "13. Model instatiation (Random Forests)\n",
    "14. Model evaluation\n",
    "15. Grid Search\n",
    "16. AdaBoost Classifier"
   ]
  },
  {
   "cell_type": "code",
   "execution_count": 96,
   "metadata": {},
   "outputs": [],
   "source": [
    "# Import libraries / Lesson 6.03\n",
    "import pandas as pd\n",
    "import numpy as np\n",
    "from sklearn.ensemble import RandomForestClassifier, ExtraTreesClassifier\n",
    "from sklearn.model_selection import cross_val_score, train_test_split, GridSearchCV\n",
    "import seaborn as sns\n",
    "import matplotlib.pyplot as plt\n",
    "from sklearn.ensemble import AdaBoostClassifier\n",
    "from sklearn.metrics import confusion_matrix, plot_confusion_matrix, classification_report"
   ]
  },
  {
   "cell_type": "markdown",
   "metadata": {},
   "source": [
    "### Load Data"
   ]
  },
  {
   "cell_type": "code",
   "execution_count": 2,
   "metadata": {
    "scrolled": true
   },
   "outputs": [
    {
     "data": {
      "text/html": [
       "<div>\n",
       "<style scoped>\n",
       "    .dataframe tbody tr th:only-of-type {\n",
       "        vertical-align: middle;\n",
       "    }\n",
       "\n",
       "    .dataframe tbody tr th {\n",
       "        vertical-align: top;\n",
       "    }\n",
       "\n",
       "    .dataframe thead th {\n",
       "        text-align: right;\n",
       "    }\n",
       "</style>\n",
       "<table border=\"1\" class=\"dataframe\">\n",
       "  <thead>\n",
       "    <tr style=\"text-align: right;\">\n",
       "      <th></th>\n",
       "      <th>age</th>\n",
       "      <th>workclass</th>\n",
       "      <th>fnlwgt</th>\n",
       "      <th>education</th>\n",
       "      <th>education-num</th>\n",
       "      <th>marital-status</th>\n",
       "      <th>occupation</th>\n",
       "      <th>relationship</th>\n",
       "      <th>sex</th>\n",
       "      <th>capital-gain</th>\n",
       "      <th>capital-loss</th>\n",
       "      <th>hours-per-week</th>\n",
       "      <th>native-country</th>\n",
       "      <th>wage</th>\n",
       "    </tr>\n",
       "  </thead>\n",
       "  <tbody>\n",
       "    <tr>\n",
       "      <th>0</th>\n",
       "      <td>39</td>\n",
       "      <td>State-gov</td>\n",
       "      <td>77516</td>\n",
       "      <td>Bachelors</td>\n",
       "      <td>13</td>\n",
       "      <td>Never-married</td>\n",
       "      <td>Adm-clerical</td>\n",
       "      <td>Not-in-family</td>\n",
       "      <td>Male</td>\n",
       "      <td>2174</td>\n",
       "      <td>0</td>\n",
       "      <td>40</td>\n",
       "      <td>United-States</td>\n",
       "      <td>&lt;=50K</td>\n",
       "    </tr>\n",
       "    <tr>\n",
       "      <th>1</th>\n",
       "      <td>50</td>\n",
       "      <td>Self-emp-not-inc</td>\n",
       "      <td>83311</td>\n",
       "      <td>Bachelors</td>\n",
       "      <td>13</td>\n",
       "      <td>Married-civ-spouse</td>\n",
       "      <td>Exec-managerial</td>\n",
       "      <td>Husband</td>\n",
       "      <td>Male</td>\n",
       "      <td>0</td>\n",
       "      <td>0</td>\n",
       "      <td>13</td>\n",
       "      <td>United-States</td>\n",
       "      <td>&lt;=50K</td>\n",
       "    </tr>\n",
       "    <tr>\n",
       "      <th>2</th>\n",
       "      <td>38</td>\n",
       "      <td>Private</td>\n",
       "      <td>215646</td>\n",
       "      <td>HS-grad</td>\n",
       "      <td>9</td>\n",
       "      <td>Divorced</td>\n",
       "      <td>Handlers-cleaners</td>\n",
       "      <td>Not-in-family</td>\n",
       "      <td>Male</td>\n",
       "      <td>0</td>\n",
       "      <td>0</td>\n",
       "      <td>40</td>\n",
       "      <td>United-States</td>\n",
       "      <td>&lt;=50K</td>\n",
       "    </tr>\n",
       "    <tr>\n",
       "      <th>3</th>\n",
       "      <td>53</td>\n",
       "      <td>Private</td>\n",
       "      <td>234721</td>\n",
       "      <td>11th</td>\n",
       "      <td>7</td>\n",
       "      <td>Married-civ-spouse</td>\n",
       "      <td>Handlers-cleaners</td>\n",
       "      <td>Husband</td>\n",
       "      <td>Male</td>\n",
       "      <td>0</td>\n",
       "      <td>0</td>\n",
       "      <td>40</td>\n",
       "      <td>United-States</td>\n",
       "      <td>&lt;=50K</td>\n",
       "    </tr>\n",
       "    <tr>\n",
       "      <th>4</th>\n",
       "      <td>28</td>\n",
       "      <td>Private</td>\n",
       "      <td>338409</td>\n",
       "      <td>Bachelors</td>\n",
       "      <td>13</td>\n",
       "      <td>Married-civ-spouse</td>\n",
       "      <td>Prof-specialty</td>\n",
       "      <td>Wife</td>\n",
       "      <td>Female</td>\n",
       "      <td>0</td>\n",
       "      <td>0</td>\n",
       "      <td>40</td>\n",
       "      <td>Cuba</td>\n",
       "      <td>&lt;=50K</td>\n",
       "    </tr>\n",
       "    <tr>\n",
       "      <th>...</th>\n",
       "      <td>...</td>\n",
       "      <td>...</td>\n",
       "      <td>...</td>\n",
       "      <td>...</td>\n",
       "      <td>...</td>\n",
       "      <td>...</td>\n",
       "      <td>...</td>\n",
       "      <td>...</td>\n",
       "      <td>...</td>\n",
       "      <td>...</td>\n",
       "      <td>...</td>\n",
       "      <td>...</td>\n",
       "      <td>...</td>\n",
       "      <td>...</td>\n",
       "    </tr>\n",
       "    <tr>\n",
       "      <th>32556</th>\n",
       "      <td>27</td>\n",
       "      <td>Private</td>\n",
       "      <td>257302</td>\n",
       "      <td>Assoc-acdm</td>\n",
       "      <td>12</td>\n",
       "      <td>Married-civ-spouse</td>\n",
       "      <td>Tech-support</td>\n",
       "      <td>Wife</td>\n",
       "      <td>Female</td>\n",
       "      <td>0</td>\n",
       "      <td>0</td>\n",
       "      <td>38</td>\n",
       "      <td>United-States</td>\n",
       "      <td>&lt;=50K</td>\n",
       "    </tr>\n",
       "    <tr>\n",
       "      <th>32557</th>\n",
       "      <td>40</td>\n",
       "      <td>Private</td>\n",
       "      <td>154374</td>\n",
       "      <td>HS-grad</td>\n",
       "      <td>9</td>\n",
       "      <td>Married-civ-spouse</td>\n",
       "      <td>Machine-op-inspct</td>\n",
       "      <td>Husband</td>\n",
       "      <td>Male</td>\n",
       "      <td>0</td>\n",
       "      <td>0</td>\n",
       "      <td>40</td>\n",
       "      <td>United-States</td>\n",
       "      <td>&gt;50K</td>\n",
       "    </tr>\n",
       "    <tr>\n",
       "      <th>32558</th>\n",
       "      <td>58</td>\n",
       "      <td>Private</td>\n",
       "      <td>151910</td>\n",
       "      <td>HS-grad</td>\n",
       "      <td>9</td>\n",
       "      <td>Widowed</td>\n",
       "      <td>Adm-clerical</td>\n",
       "      <td>Unmarried</td>\n",
       "      <td>Female</td>\n",
       "      <td>0</td>\n",
       "      <td>0</td>\n",
       "      <td>40</td>\n",
       "      <td>United-States</td>\n",
       "      <td>&lt;=50K</td>\n",
       "    </tr>\n",
       "    <tr>\n",
       "      <th>32559</th>\n",
       "      <td>22</td>\n",
       "      <td>Private</td>\n",
       "      <td>201490</td>\n",
       "      <td>HS-grad</td>\n",
       "      <td>9</td>\n",
       "      <td>Never-married</td>\n",
       "      <td>Adm-clerical</td>\n",
       "      <td>Own-child</td>\n",
       "      <td>Male</td>\n",
       "      <td>0</td>\n",
       "      <td>0</td>\n",
       "      <td>20</td>\n",
       "      <td>United-States</td>\n",
       "      <td>&lt;=50K</td>\n",
       "    </tr>\n",
       "    <tr>\n",
       "      <th>32560</th>\n",
       "      <td>52</td>\n",
       "      <td>Self-emp-inc</td>\n",
       "      <td>287927</td>\n",
       "      <td>HS-grad</td>\n",
       "      <td>9</td>\n",
       "      <td>Married-civ-spouse</td>\n",
       "      <td>Exec-managerial</td>\n",
       "      <td>Wife</td>\n",
       "      <td>Female</td>\n",
       "      <td>15024</td>\n",
       "      <td>0</td>\n",
       "      <td>40</td>\n",
       "      <td>United-States</td>\n",
       "      <td>&gt;50K</td>\n",
       "    </tr>\n",
       "  </tbody>\n",
       "</table>\n",
       "<p>32561 rows × 14 columns</p>\n",
       "</div>"
      ],
      "text/plain": [
       "       age          workclass  fnlwgt    education  education-num  \\\n",
       "0       39          State-gov   77516    Bachelors             13   \n",
       "1       50   Self-emp-not-inc   83311    Bachelors             13   \n",
       "2       38            Private  215646      HS-grad              9   \n",
       "3       53            Private  234721         11th              7   \n",
       "4       28            Private  338409    Bachelors             13   \n",
       "...    ...                ...     ...          ...            ...   \n",
       "32556   27            Private  257302   Assoc-acdm             12   \n",
       "32557   40            Private  154374      HS-grad              9   \n",
       "32558   58            Private  151910      HS-grad              9   \n",
       "32559   22            Private  201490      HS-grad              9   \n",
       "32560   52       Self-emp-inc  287927      HS-grad              9   \n",
       "\n",
       "            marital-status          occupation    relationship      sex  \\\n",
       "0            Never-married        Adm-clerical   Not-in-family     Male   \n",
       "1       Married-civ-spouse     Exec-managerial         Husband     Male   \n",
       "2                 Divorced   Handlers-cleaners   Not-in-family     Male   \n",
       "3       Married-civ-spouse   Handlers-cleaners         Husband     Male   \n",
       "4       Married-civ-spouse      Prof-specialty            Wife   Female   \n",
       "...                    ...                 ...             ...      ...   \n",
       "32556   Married-civ-spouse        Tech-support            Wife   Female   \n",
       "32557   Married-civ-spouse   Machine-op-inspct         Husband     Male   \n",
       "32558              Widowed        Adm-clerical       Unmarried   Female   \n",
       "32559        Never-married        Adm-clerical       Own-child     Male   \n",
       "32560   Married-civ-spouse     Exec-managerial            Wife   Female   \n",
       "\n",
       "       capital-gain  capital-loss  hours-per-week  native-country    wage  \n",
       "0              2174             0              40   United-States   <=50K  \n",
       "1                 0             0              13   United-States   <=50K  \n",
       "2                 0             0              40   United-States   <=50K  \n",
       "3                 0             0              40   United-States   <=50K  \n",
       "4                 0             0              40            Cuba   <=50K  \n",
       "...             ...           ...             ...             ...     ...  \n",
       "32556             0             0              38   United-States   <=50K  \n",
       "32557             0             0              40   United-States    >50K  \n",
       "32558             0             0              40   United-States   <=50K  \n",
       "32559             0             0              20   United-States   <=50K  \n",
       "32560         15024             0              40   United-States    >50K  \n",
       "\n",
       "[32561 rows x 14 columns]"
      ]
     },
     "execution_count": 2,
     "metadata": {},
     "output_type": "execute_result"
    }
   ],
   "source": [
    "# Read in large train sample csv\n",
    "large_df = pd.read_csv('./data/large_train_sample.csv')\n",
    "# Visualize large train dataframe\n",
    "large_df"
   ]
  },
  {
   "cell_type": "markdown",
   "metadata": {},
   "source": [
    "### Data Cleaning"
   ]
  },
  {
   "cell_type": "code",
   "execution_count": 3,
   "metadata": {},
   "outputs": [
    {
     "data": {
      "text/plain": [
       "(32561, 14)"
      ]
     },
     "execution_count": 3,
     "metadata": {},
     "output_type": "execute_result"
    }
   ],
   "source": [
    "# Looking at shape of dataframe\n",
    "large_df.shape"
   ]
  },
  {
   "cell_type": "code",
   "execution_count": 4,
   "metadata": {
    "scrolled": false
   },
   "outputs": [
    {
     "data": {
      "text/plain": [
       "age               0\n",
       "workclass         0\n",
       "fnlwgt            0\n",
       "education         0\n",
       "education-num     0\n",
       "marital-status    0\n",
       "occupation        0\n",
       "relationship      0\n",
       "sex               0\n",
       "capital-gain      0\n",
       "capital-loss      0\n",
       "hours-per-week    0\n",
       "native-country    0\n",
       "wage              0\n",
       "dtype: int64"
      ]
     },
     "execution_count": 4,
     "metadata": {},
     "output_type": "execute_result"
    }
   ],
   "source": [
    "# Checking for null values in dataframe\n",
    "large_df.isnull().sum()"
   ]
  },
  {
   "cell_type": "code",
   "execution_count": 5,
   "metadata": {
    "scrolled": false
   },
   "outputs": [
    {
     "data": {
      "text/plain": [
       "0         77516\n",
       "1         83311\n",
       "2        215646\n",
       "3        234721\n",
       "4        338409\n",
       "          ...  \n",
       "32556    257302\n",
       "32557    154374\n",
       "32558    151910\n",
       "32559    201490\n",
       "32560    287927\n",
       "Name: fnlwgt, Length: 32561, dtype: int64"
      ]
     },
     "execution_count": 5,
     "metadata": {},
     "output_type": "execute_result"
    }
   ],
   "source": [
    "# Trying to find out what fnlwgt stands for.\n",
    "\n",
    "# fnlwgt: final weight. In other words, this is the number of people the census believes the entry represents\n",
    "# http://cseweb.ucsd.edu/classes/sp15/cse190-c/reports/sp15/048.pdf\n",
    "\n",
    "large_df['fnlwgt']"
   ]
  },
  {
   "cell_type": "markdown",
   "metadata": {},
   "source": [
    "### Cleaning Workclass Column"
   ]
  },
  {
   "cell_type": "code",
   "execution_count": 6,
   "metadata": {
    "scrolled": true
   },
   "outputs": [
    {
     "data": {
      "text/html": [
       "<div>\n",
       "<style scoped>\n",
       "    .dataframe tbody tr th:only-of-type {\n",
       "        vertical-align: middle;\n",
       "    }\n",
       "\n",
       "    .dataframe tbody tr th {\n",
       "        vertical-align: top;\n",
       "    }\n",
       "\n",
       "    .dataframe thead th {\n",
       "        text-align: right;\n",
       "    }\n",
       "</style>\n",
       "<table border=\"1\" class=\"dataframe\">\n",
       "  <thead>\n",
       "    <tr style=\"text-align: right;\">\n",
       "      <th></th>\n",
       "      <th>age</th>\n",
       "      <th>workclass</th>\n",
       "      <th>fnlwgt</th>\n",
       "      <th>education</th>\n",
       "      <th>education-num</th>\n",
       "      <th>marital-status</th>\n",
       "      <th>occupation</th>\n",
       "      <th>relationship</th>\n",
       "      <th>sex</th>\n",
       "      <th>capital-gain</th>\n",
       "      <th>capital-loss</th>\n",
       "      <th>hours-per-week</th>\n",
       "      <th>native-country</th>\n",
       "      <th>wage</th>\n",
       "    </tr>\n",
       "  </thead>\n",
       "  <tbody>\n",
       "    <tr>\n",
       "      <th>27</th>\n",
       "      <td>54</td>\n",
       "      <td>?</td>\n",
       "      <td>180211</td>\n",
       "      <td>Some-college</td>\n",
       "      <td>10</td>\n",
       "      <td>Married-civ-spouse</td>\n",
       "      <td>?</td>\n",
       "      <td>Husband</td>\n",
       "      <td>Male</td>\n",
       "      <td>0</td>\n",
       "      <td>0</td>\n",
       "      <td>60</td>\n",
       "      <td>South</td>\n",
       "      <td>&gt;50K</td>\n",
       "    </tr>\n",
       "    <tr>\n",
       "      <th>61</th>\n",
       "      <td>32</td>\n",
       "      <td>?</td>\n",
       "      <td>293936</td>\n",
       "      <td>7th-8th</td>\n",
       "      <td>4</td>\n",
       "      <td>Married-spouse-absent</td>\n",
       "      <td>?</td>\n",
       "      <td>Not-in-family</td>\n",
       "      <td>Male</td>\n",
       "      <td>0</td>\n",
       "      <td>0</td>\n",
       "      <td>40</td>\n",
       "      <td>?</td>\n",
       "      <td>&lt;=50K</td>\n",
       "    </tr>\n",
       "    <tr>\n",
       "      <th>69</th>\n",
       "      <td>25</td>\n",
       "      <td>?</td>\n",
       "      <td>200681</td>\n",
       "      <td>Some-college</td>\n",
       "      <td>10</td>\n",
       "      <td>Never-married</td>\n",
       "      <td>?</td>\n",
       "      <td>Own-child</td>\n",
       "      <td>Male</td>\n",
       "      <td>0</td>\n",
       "      <td>0</td>\n",
       "      <td>40</td>\n",
       "      <td>United-States</td>\n",
       "      <td>&lt;=50K</td>\n",
       "    </tr>\n",
       "    <tr>\n",
       "      <th>77</th>\n",
       "      <td>67</td>\n",
       "      <td>?</td>\n",
       "      <td>212759</td>\n",
       "      <td>10th</td>\n",
       "      <td>6</td>\n",
       "      <td>Married-civ-spouse</td>\n",
       "      <td>?</td>\n",
       "      <td>Husband</td>\n",
       "      <td>Male</td>\n",
       "      <td>0</td>\n",
       "      <td>0</td>\n",
       "      <td>2</td>\n",
       "      <td>United-States</td>\n",
       "      <td>&lt;=50K</td>\n",
       "    </tr>\n",
       "    <tr>\n",
       "      <th>106</th>\n",
       "      <td>17</td>\n",
       "      <td>?</td>\n",
       "      <td>304873</td>\n",
       "      <td>10th</td>\n",
       "      <td>6</td>\n",
       "      <td>Never-married</td>\n",
       "      <td>?</td>\n",
       "      <td>Own-child</td>\n",
       "      <td>Female</td>\n",
       "      <td>34095</td>\n",
       "      <td>0</td>\n",
       "      <td>32</td>\n",
       "      <td>United-States</td>\n",
       "      <td>&lt;=50K</td>\n",
       "    </tr>\n",
       "    <tr>\n",
       "      <th>...</th>\n",
       "      <td>...</td>\n",
       "      <td>...</td>\n",
       "      <td>...</td>\n",
       "      <td>...</td>\n",
       "      <td>...</td>\n",
       "      <td>...</td>\n",
       "      <td>...</td>\n",
       "      <td>...</td>\n",
       "      <td>...</td>\n",
       "      <td>...</td>\n",
       "      <td>...</td>\n",
       "      <td>...</td>\n",
       "      <td>...</td>\n",
       "      <td>...</td>\n",
       "    </tr>\n",
       "    <tr>\n",
       "      <th>32530</th>\n",
       "      <td>35</td>\n",
       "      <td>?</td>\n",
       "      <td>320084</td>\n",
       "      <td>Bachelors</td>\n",
       "      <td>13</td>\n",
       "      <td>Married-civ-spouse</td>\n",
       "      <td>?</td>\n",
       "      <td>Wife</td>\n",
       "      <td>Female</td>\n",
       "      <td>0</td>\n",
       "      <td>0</td>\n",
       "      <td>55</td>\n",
       "      <td>United-States</td>\n",
       "      <td>&gt;50K</td>\n",
       "    </tr>\n",
       "    <tr>\n",
       "      <th>32531</th>\n",
       "      <td>30</td>\n",
       "      <td>?</td>\n",
       "      <td>33811</td>\n",
       "      <td>Bachelors</td>\n",
       "      <td>13</td>\n",
       "      <td>Never-married</td>\n",
       "      <td>?</td>\n",
       "      <td>Not-in-family</td>\n",
       "      <td>Female</td>\n",
       "      <td>0</td>\n",
       "      <td>0</td>\n",
       "      <td>99</td>\n",
       "      <td>United-States</td>\n",
       "      <td>&lt;=50K</td>\n",
       "    </tr>\n",
       "    <tr>\n",
       "      <th>32539</th>\n",
       "      <td>71</td>\n",
       "      <td>?</td>\n",
       "      <td>287372</td>\n",
       "      <td>Doctorate</td>\n",
       "      <td>16</td>\n",
       "      <td>Married-civ-spouse</td>\n",
       "      <td>?</td>\n",
       "      <td>Husband</td>\n",
       "      <td>Male</td>\n",
       "      <td>0</td>\n",
       "      <td>0</td>\n",
       "      <td>10</td>\n",
       "      <td>United-States</td>\n",
       "      <td>&gt;50K</td>\n",
       "    </tr>\n",
       "    <tr>\n",
       "      <th>32541</th>\n",
       "      <td>41</td>\n",
       "      <td>?</td>\n",
       "      <td>202822</td>\n",
       "      <td>HS-grad</td>\n",
       "      <td>9</td>\n",
       "      <td>Separated</td>\n",
       "      <td>?</td>\n",
       "      <td>Not-in-family</td>\n",
       "      <td>Female</td>\n",
       "      <td>0</td>\n",
       "      <td>0</td>\n",
       "      <td>32</td>\n",
       "      <td>United-States</td>\n",
       "      <td>&lt;=50K</td>\n",
       "    </tr>\n",
       "    <tr>\n",
       "      <th>32542</th>\n",
       "      <td>72</td>\n",
       "      <td>?</td>\n",
       "      <td>129912</td>\n",
       "      <td>HS-grad</td>\n",
       "      <td>9</td>\n",
       "      <td>Married-civ-spouse</td>\n",
       "      <td>?</td>\n",
       "      <td>Husband</td>\n",
       "      <td>Male</td>\n",
       "      <td>0</td>\n",
       "      <td>0</td>\n",
       "      <td>25</td>\n",
       "      <td>United-States</td>\n",
       "      <td>&lt;=50K</td>\n",
       "    </tr>\n",
       "  </tbody>\n",
       "</table>\n",
       "<p>1836 rows × 14 columns</p>\n",
       "</div>"
      ],
      "text/plain": [
       "       age workclass  fnlwgt      education  education-num  \\\n",
       "27      54         ?  180211   Some-college             10   \n",
       "61      32         ?  293936        7th-8th              4   \n",
       "69      25         ?  200681   Some-college             10   \n",
       "77      67         ?  212759           10th              6   \n",
       "106     17         ?  304873           10th              6   \n",
       "...    ...       ...     ...            ...            ...   \n",
       "32530   35         ?  320084      Bachelors             13   \n",
       "32531   30         ?   33811      Bachelors             13   \n",
       "32539   71         ?  287372      Doctorate             16   \n",
       "32541   41         ?  202822        HS-grad              9   \n",
       "32542   72         ?  129912        HS-grad              9   \n",
       "\n",
       "               marital-status occupation    relationship      sex  \\\n",
       "27         Married-civ-spouse          ?         Husband     Male   \n",
       "61      Married-spouse-absent          ?   Not-in-family     Male   \n",
       "69              Never-married          ?       Own-child     Male   \n",
       "77         Married-civ-spouse          ?         Husband     Male   \n",
       "106             Never-married          ?       Own-child   Female   \n",
       "...                       ...        ...             ...      ...   \n",
       "32530      Married-civ-spouse          ?            Wife   Female   \n",
       "32531           Never-married          ?   Not-in-family   Female   \n",
       "32539      Married-civ-spouse          ?         Husband     Male   \n",
       "32541               Separated          ?   Not-in-family   Female   \n",
       "32542      Married-civ-spouse          ?         Husband     Male   \n",
       "\n",
       "       capital-gain  capital-loss  hours-per-week  native-country    wage  \n",
       "27                0             0              60           South    >50K  \n",
       "61                0             0              40               ?   <=50K  \n",
       "69                0             0              40   United-States   <=50K  \n",
       "77                0             0               2   United-States   <=50K  \n",
       "106           34095             0              32   United-States   <=50K  \n",
       "...             ...           ...             ...             ...     ...  \n",
       "32530             0             0              55   United-States    >50K  \n",
       "32531             0             0              99   United-States   <=50K  \n",
       "32539             0             0              10   United-States    >50K  \n",
       "32541             0             0              32   United-States   <=50K  \n",
       "32542             0             0              25   United-States   <=50K  \n",
       "\n",
       "[1836 rows x 14 columns]"
      ]
     },
     "execution_count": 6,
     "metadata": {},
     "output_type": "execute_result"
    }
   ],
   "source": [
    "# Finding where question mark value is in workclass \n",
    "large_df[large_df['workclass'].str.strip() == '?']"
   ]
  },
  {
   "cell_type": "code",
   "execution_count": 7,
   "metadata": {},
   "outputs": [
    {
     "data": {
      "text/plain": [
       "array([' State-gov', ' Self-emp-not-inc', ' Private', ' Federal-gov',\n",
       "       ' Local-gov', ' ?', ' Self-emp-inc', ' Without-pay',\n",
       "       ' Never-worked'], dtype=object)"
      ]
     },
     "execution_count": 7,
     "metadata": {},
     "output_type": "execute_result"
    }
   ],
   "source": [
    "# Looking at workclass column to identify rows we need to clean\n",
    "large_df['workclass'].unique()"
   ]
  },
  {
   "cell_type": "code",
   "execution_count": 8,
   "metadata": {},
   "outputs": [
    {
     "data": {
      "text/plain": [
       "array(['State-gov', 'Self-emp-not-inc', 'Private', 'Federal-gov',\n",
       "       'Local-gov', nan, 'Self-emp-inc', 'Without-pay', 'Never-worked'],\n",
       "      dtype=object)"
      ]
     },
     "execution_count": 8,
     "metadata": {},
     "output_type": "execute_result"
    }
   ],
   "source": [
    "# Finding all ? values in workclass and setting as np.nan for easier to clean\n",
    "large_df['workclass'] = large_df['workclass'].str.strip().map(lambda x: np.nan if x==\"?\" else x)\n",
    "large_df['workclass'].unique()"
   ]
  },
  {
   "cell_type": "code",
   "execution_count": 9,
   "metadata": {},
   "outputs": [
    {
     "data": {
      "text/html": [
       "<div>\n",
       "<style scoped>\n",
       "    .dataframe tbody tr th:only-of-type {\n",
       "        vertical-align: middle;\n",
       "    }\n",
       "\n",
       "    .dataframe tbody tr th {\n",
       "        vertical-align: top;\n",
       "    }\n",
       "\n",
       "    .dataframe thead th {\n",
       "        text-align: right;\n",
       "    }\n",
       "</style>\n",
       "<table border=\"1\" class=\"dataframe\">\n",
       "  <thead>\n",
       "    <tr style=\"text-align: right;\">\n",
       "      <th></th>\n",
       "      <th>age</th>\n",
       "      <th>workclass</th>\n",
       "      <th>fnlwgt</th>\n",
       "      <th>education</th>\n",
       "      <th>education-num</th>\n",
       "      <th>marital-status</th>\n",
       "      <th>occupation</th>\n",
       "      <th>relationship</th>\n",
       "      <th>sex</th>\n",
       "      <th>capital-gain</th>\n",
       "      <th>capital-loss</th>\n",
       "      <th>hours-per-week</th>\n",
       "      <th>native-country</th>\n",
       "      <th>wage</th>\n",
       "    </tr>\n",
       "  </thead>\n",
       "  <tbody>\n",
       "    <tr>\n",
       "      <th>0</th>\n",
       "      <td>39</td>\n",
       "      <td>State-gov</td>\n",
       "      <td>77516</td>\n",
       "      <td>Bachelors</td>\n",
       "      <td>13</td>\n",
       "      <td>Never-married</td>\n",
       "      <td>Adm-clerical</td>\n",
       "      <td>Not-in-family</td>\n",
       "      <td>Male</td>\n",
       "      <td>2174</td>\n",
       "      <td>0</td>\n",
       "      <td>40</td>\n",
       "      <td>United-States</td>\n",
       "      <td>&lt;=50K</td>\n",
       "    </tr>\n",
       "    <tr>\n",
       "      <th>1</th>\n",
       "      <td>50</td>\n",
       "      <td>Self-emp-not-inc</td>\n",
       "      <td>83311</td>\n",
       "      <td>Bachelors</td>\n",
       "      <td>13</td>\n",
       "      <td>Married-civ-spouse</td>\n",
       "      <td>Exec-managerial</td>\n",
       "      <td>Husband</td>\n",
       "      <td>Male</td>\n",
       "      <td>0</td>\n",
       "      <td>0</td>\n",
       "      <td>13</td>\n",
       "      <td>United-States</td>\n",
       "      <td>&lt;=50K</td>\n",
       "    </tr>\n",
       "    <tr>\n",
       "      <th>2</th>\n",
       "      <td>38</td>\n",
       "      <td>Private</td>\n",
       "      <td>215646</td>\n",
       "      <td>HS-grad</td>\n",
       "      <td>9</td>\n",
       "      <td>Divorced</td>\n",
       "      <td>Handlers-cleaners</td>\n",
       "      <td>Not-in-family</td>\n",
       "      <td>Male</td>\n",
       "      <td>0</td>\n",
       "      <td>0</td>\n",
       "      <td>40</td>\n",
       "      <td>United-States</td>\n",
       "      <td>&lt;=50K</td>\n",
       "    </tr>\n",
       "    <tr>\n",
       "      <th>3</th>\n",
       "      <td>53</td>\n",
       "      <td>Private</td>\n",
       "      <td>234721</td>\n",
       "      <td>11th</td>\n",
       "      <td>7</td>\n",
       "      <td>Married-civ-spouse</td>\n",
       "      <td>Handlers-cleaners</td>\n",
       "      <td>Husband</td>\n",
       "      <td>Male</td>\n",
       "      <td>0</td>\n",
       "      <td>0</td>\n",
       "      <td>40</td>\n",
       "      <td>United-States</td>\n",
       "      <td>&lt;=50K</td>\n",
       "    </tr>\n",
       "    <tr>\n",
       "      <th>4</th>\n",
       "      <td>28</td>\n",
       "      <td>Private</td>\n",
       "      <td>338409</td>\n",
       "      <td>Bachelors</td>\n",
       "      <td>13</td>\n",
       "      <td>Married-civ-spouse</td>\n",
       "      <td>Prof-specialty</td>\n",
       "      <td>Wife</td>\n",
       "      <td>Female</td>\n",
       "      <td>0</td>\n",
       "      <td>0</td>\n",
       "      <td>40</td>\n",
       "      <td>Cuba</td>\n",
       "      <td>&lt;=50K</td>\n",
       "    </tr>\n",
       "  </tbody>\n",
       "</table>\n",
       "</div>"
      ],
      "text/plain": [
       "   age         workclass  fnlwgt   education  education-num  \\\n",
       "0   39         State-gov   77516   Bachelors             13   \n",
       "1   50  Self-emp-not-inc   83311   Bachelors             13   \n",
       "2   38           Private  215646     HS-grad              9   \n",
       "3   53           Private  234721        11th              7   \n",
       "4   28           Private  338409   Bachelors             13   \n",
       "\n",
       "        marital-status          occupation    relationship      sex  \\\n",
       "0        Never-married        Adm-clerical   Not-in-family     Male   \n",
       "1   Married-civ-spouse     Exec-managerial         Husband     Male   \n",
       "2             Divorced   Handlers-cleaners   Not-in-family     Male   \n",
       "3   Married-civ-spouse   Handlers-cleaners         Husband     Male   \n",
       "4   Married-civ-spouse      Prof-specialty            Wife   Female   \n",
       "\n",
       "   capital-gain  capital-loss  hours-per-week  native-country    wage  \n",
       "0          2174             0              40   United-States   <=50K  \n",
       "1             0             0              13   United-States   <=50K  \n",
       "2             0             0              40   United-States   <=50K  \n",
       "3             0             0              40   United-States   <=50K  \n",
       "4             0             0              40            Cuba   <=50K  "
      ]
     },
     "execution_count": 9,
     "metadata": {},
     "output_type": "execute_result"
    }
   ],
   "source": [
    "# Dropping null values set from above\n",
    "large_df.dropna(inplace=True)\n",
    "# Visualizing changes\n",
    "large_df.head()"
   ]
  },
  {
   "cell_type": "markdown",
   "metadata": {},
   "source": [
    "### Cleaning Occupation Column"
   ]
  },
  {
   "cell_type": "code",
   "execution_count": 10,
   "metadata": {
    "scrolled": true
   },
   "outputs": [
    {
     "data": {
      "text/html": [
       "<div>\n",
       "<style scoped>\n",
       "    .dataframe tbody tr th:only-of-type {\n",
       "        vertical-align: middle;\n",
       "    }\n",
       "\n",
       "    .dataframe tbody tr th {\n",
       "        vertical-align: top;\n",
       "    }\n",
       "\n",
       "    .dataframe thead th {\n",
       "        text-align: right;\n",
       "    }\n",
       "</style>\n",
       "<table border=\"1\" class=\"dataframe\">\n",
       "  <thead>\n",
       "    <tr style=\"text-align: right;\">\n",
       "      <th></th>\n",
       "      <th>age</th>\n",
       "      <th>workclass</th>\n",
       "      <th>fnlwgt</th>\n",
       "      <th>education</th>\n",
       "      <th>education-num</th>\n",
       "      <th>marital-status</th>\n",
       "      <th>occupation</th>\n",
       "      <th>relationship</th>\n",
       "      <th>sex</th>\n",
       "      <th>capital-gain</th>\n",
       "      <th>capital-loss</th>\n",
       "      <th>hours-per-week</th>\n",
       "      <th>native-country</th>\n",
       "      <th>wage</th>\n",
       "    </tr>\n",
       "  </thead>\n",
       "  <tbody>\n",
       "    <tr>\n",
       "      <th>5361</th>\n",
       "      <td>18</td>\n",
       "      <td>Never-worked</td>\n",
       "      <td>206359</td>\n",
       "      <td>10th</td>\n",
       "      <td>6</td>\n",
       "      <td>Never-married</td>\n",
       "      <td>?</td>\n",
       "      <td>Own-child</td>\n",
       "      <td>Male</td>\n",
       "      <td>0</td>\n",
       "      <td>0</td>\n",
       "      <td>40</td>\n",
       "      <td>United-States</td>\n",
       "      <td>&lt;=50K</td>\n",
       "    </tr>\n",
       "    <tr>\n",
       "      <th>10845</th>\n",
       "      <td>23</td>\n",
       "      <td>Never-worked</td>\n",
       "      <td>188535</td>\n",
       "      <td>7th-8th</td>\n",
       "      <td>4</td>\n",
       "      <td>Divorced</td>\n",
       "      <td>?</td>\n",
       "      <td>Not-in-family</td>\n",
       "      <td>Male</td>\n",
       "      <td>0</td>\n",
       "      <td>0</td>\n",
       "      <td>35</td>\n",
       "      <td>United-States</td>\n",
       "      <td>&lt;=50K</td>\n",
       "    </tr>\n",
       "    <tr>\n",
       "      <th>14772</th>\n",
       "      <td>17</td>\n",
       "      <td>Never-worked</td>\n",
       "      <td>237272</td>\n",
       "      <td>10th</td>\n",
       "      <td>6</td>\n",
       "      <td>Never-married</td>\n",
       "      <td>?</td>\n",
       "      <td>Own-child</td>\n",
       "      <td>Male</td>\n",
       "      <td>0</td>\n",
       "      <td>0</td>\n",
       "      <td>30</td>\n",
       "      <td>United-States</td>\n",
       "      <td>&lt;=50K</td>\n",
       "    </tr>\n",
       "    <tr>\n",
       "      <th>20337</th>\n",
       "      <td>18</td>\n",
       "      <td>Never-worked</td>\n",
       "      <td>157131</td>\n",
       "      <td>11th</td>\n",
       "      <td>7</td>\n",
       "      <td>Never-married</td>\n",
       "      <td>?</td>\n",
       "      <td>Own-child</td>\n",
       "      <td>Female</td>\n",
       "      <td>0</td>\n",
       "      <td>0</td>\n",
       "      <td>10</td>\n",
       "      <td>United-States</td>\n",
       "      <td>&lt;=50K</td>\n",
       "    </tr>\n",
       "    <tr>\n",
       "      <th>23232</th>\n",
       "      <td>20</td>\n",
       "      <td>Never-worked</td>\n",
       "      <td>462294</td>\n",
       "      <td>Some-college</td>\n",
       "      <td>10</td>\n",
       "      <td>Never-married</td>\n",
       "      <td>?</td>\n",
       "      <td>Own-child</td>\n",
       "      <td>Male</td>\n",
       "      <td>0</td>\n",
       "      <td>0</td>\n",
       "      <td>40</td>\n",
       "      <td>United-States</td>\n",
       "      <td>&lt;=50K</td>\n",
       "    </tr>\n",
       "    <tr>\n",
       "      <th>32304</th>\n",
       "      <td>30</td>\n",
       "      <td>Never-worked</td>\n",
       "      <td>176673</td>\n",
       "      <td>HS-grad</td>\n",
       "      <td>9</td>\n",
       "      <td>Married-civ-spouse</td>\n",
       "      <td>?</td>\n",
       "      <td>Wife</td>\n",
       "      <td>Female</td>\n",
       "      <td>0</td>\n",
       "      <td>0</td>\n",
       "      <td>40</td>\n",
       "      <td>United-States</td>\n",
       "      <td>&lt;=50K</td>\n",
       "    </tr>\n",
       "    <tr>\n",
       "      <th>32314</th>\n",
       "      <td>18</td>\n",
       "      <td>Never-worked</td>\n",
       "      <td>153663</td>\n",
       "      <td>Some-college</td>\n",
       "      <td>10</td>\n",
       "      <td>Never-married</td>\n",
       "      <td>?</td>\n",
       "      <td>Own-child</td>\n",
       "      <td>Male</td>\n",
       "      <td>0</td>\n",
       "      <td>0</td>\n",
       "      <td>4</td>\n",
       "      <td>United-States</td>\n",
       "      <td>&lt;=50K</td>\n",
       "    </tr>\n",
       "  </tbody>\n",
       "</table>\n",
       "</div>"
      ],
      "text/plain": [
       "       age     workclass  fnlwgt      education  education-num  \\\n",
       "5361    18  Never-worked  206359           10th              6   \n",
       "10845   23  Never-worked  188535        7th-8th              4   \n",
       "14772   17  Never-worked  237272           10th              6   \n",
       "20337   18  Never-worked  157131           11th              7   \n",
       "23232   20  Never-worked  462294   Some-college             10   \n",
       "32304   30  Never-worked  176673        HS-grad              9   \n",
       "32314   18  Never-worked  153663   Some-college             10   \n",
       "\n",
       "            marital-status occupation    relationship      sex  capital-gain  \\\n",
       "5361         Never-married          ?       Own-child     Male             0   \n",
       "10845             Divorced          ?   Not-in-family     Male             0   \n",
       "14772        Never-married          ?       Own-child     Male             0   \n",
       "20337        Never-married          ?       Own-child   Female             0   \n",
       "23232        Never-married          ?       Own-child     Male             0   \n",
       "32304   Married-civ-spouse          ?            Wife   Female             0   \n",
       "32314        Never-married          ?       Own-child     Male             0   \n",
       "\n",
       "       capital-loss  hours-per-week  native-country    wage  \n",
       "5361              0              40   United-States   <=50K  \n",
       "10845             0              35   United-States   <=50K  \n",
       "14772             0              30   United-States   <=50K  \n",
       "20337             0              10   United-States   <=50K  \n",
       "23232             0              40   United-States   <=50K  \n",
       "32304             0              40   United-States   <=50K  \n",
       "32314             0               4   United-States   <=50K  "
      ]
     },
     "execution_count": 10,
     "metadata": {},
     "output_type": "execute_result"
    }
   ],
   "source": [
    "# Finding out where ? is a value in occupation\n",
    "large_df[large_df['occupation'].str.strip() == '?']"
   ]
  },
  {
   "cell_type": "code",
   "execution_count": 11,
   "metadata": {
    "scrolled": false
   },
   "outputs": [],
   "source": [
    "# Replacing occupation \" ?\" with Never worked, similar to their workclass\n",
    "large_df['occupation'] = large_df['occupation'].replace(\" ?\", \"Never worked\")"
   ]
  },
  {
   "cell_type": "code",
   "execution_count": 12,
   "metadata": {},
   "outputs": [
    {
     "data": {
      "text/html": [
       "<div>\n",
       "<style scoped>\n",
       "    .dataframe tbody tr th:only-of-type {\n",
       "        vertical-align: middle;\n",
       "    }\n",
       "\n",
       "    .dataframe tbody tr th {\n",
       "        vertical-align: top;\n",
       "    }\n",
       "\n",
       "    .dataframe thead th {\n",
       "        text-align: right;\n",
       "    }\n",
       "</style>\n",
       "<table border=\"1\" class=\"dataframe\">\n",
       "  <thead>\n",
       "    <tr style=\"text-align: right;\">\n",
       "      <th></th>\n",
       "      <th>age</th>\n",
       "      <th>workclass</th>\n",
       "      <th>fnlwgt</th>\n",
       "      <th>education</th>\n",
       "      <th>education-num</th>\n",
       "      <th>marital-status</th>\n",
       "      <th>occupation</th>\n",
       "      <th>relationship</th>\n",
       "      <th>sex</th>\n",
       "      <th>capital-gain</th>\n",
       "      <th>capital-loss</th>\n",
       "      <th>hours-per-week</th>\n",
       "      <th>native-country</th>\n",
       "      <th>wage</th>\n",
       "    </tr>\n",
       "  </thead>\n",
       "  <tbody>\n",
       "    <tr>\n",
       "      <th>5361</th>\n",
       "      <td>18</td>\n",
       "      <td>Never-worked</td>\n",
       "      <td>206359</td>\n",
       "      <td>10th</td>\n",
       "      <td>6</td>\n",
       "      <td>Never-married</td>\n",
       "      <td>Never worked</td>\n",
       "      <td>Own-child</td>\n",
       "      <td>Male</td>\n",
       "      <td>0</td>\n",
       "      <td>0</td>\n",
       "      <td>40</td>\n",
       "      <td>United-States</td>\n",
       "      <td>&lt;=50K</td>\n",
       "    </tr>\n",
       "    <tr>\n",
       "      <th>10845</th>\n",
       "      <td>23</td>\n",
       "      <td>Never-worked</td>\n",
       "      <td>188535</td>\n",
       "      <td>7th-8th</td>\n",
       "      <td>4</td>\n",
       "      <td>Divorced</td>\n",
       "      <td>Never worked</td>\n",
       "      <td>Not-in-family</td>\n",
       "      <td>Male</td>\n",
       "      <td>0</td>\n",
       "      <td>0</td>\n",
       "      <td>35</td>\n",
       "      <td>United-States</td>\n",
       "      <td>&lt;=50K</td>\n",
       "    </tr>\n",
       "    <tr>\n",
       "      <th>14772</th>\n",
       "      <td>17</td>\n",
       "      <td>Never-worked</td>\n",
       "      <td>237272</td>\n",
       "      <td>10th</td>\n",
       "      <td>6</td>\n",
       "      <td>Never-married</td>\n",
       "      <td>Never worked</td>\n",
       "      <td>Own-child</td>\n",
       "      <td>Male</td>\n",
       "      <td>0</td>\n",
       "      <td>0</td>\n",
       "      <td>30</td>\n",
       "      <td>United-States</td>\n",
       "      <td>&lt;=50K</td>\n",
       "    </tr>\n",
       "    <tr>\n",
       "      <th>20337</th>\n",
       "      <td>18</td>\n",
       "      <td>Never-worked</td>\n",
       "      <td>157131</td>\n",
       "      <td>11th</td>\n",
       "      <td>7</td>\n",
       "      <td>Never-married</td>\n",
       "      <td>Never worked</td>\n",
       "      <td>Own-child</td>\n",
       "      <td>Female</td>\n",
       "      <td>0</td>\n",
       "      <td>0</td>\n",
       "      <td>10</td>\n",
       "      <td>United-States</td>\n",
       "      <td>&lt;=50K</td>\n",
       "    </tr>\n",
       "    <tr>\n",
       "      <th>23232</th>\n",
       "      <td>20</td>\n",
       "      <td>Never-worked</td>\n",
       "      <td>462294</td>\n",
       "      <td>Some-college</td>\n",
       "      <td>10</td>\n",
       "      <td>Never-married</td>\n",
       "      <td>Never worked</td>\n",
       "      <td>Own-child</td>\n",
       "      <td>Male</td>\n",
       "      <td>0</td>\n",
       "      <td>0</td>\n",
       "      <td>40</td>\n",
       "      <td>United-States</td>\n",
       "      <td>&lt;=50K</td>\n",
       "    </tr>\n",
       "    <tr>\n",
       "      <th>32304</th>\n",
       "      <td>30</td>\n",
       "      <td>Never-worked</td>\n",
       "      <td>176673</td>\n",
       "      <td>HS-grad</td>\n",
       "      <td>9</td>\n",
       "      <td>Married-civ-spouse</td>\n",
       "      <td>Never worked</td>\n",
       "      <td>Wife</td>\n",
       "      <td>Female</td>\n",
       "      <td>0</td>\n",
       "      <td>0</td>\n",
       "      <td>40</td>\n",
       "      <td>United-States</td>\n",
       "      <td>&lt;=50K</td>\n",
       "    </tr>\n",
       "    <tr>\n",
       "      <th>32314</th>\n",
       "      <td>18</td>\n",
       "      <td>Never-worked</td>\n",
       "      <td>153663</td>\n",
       "      <td>Some-college</td>\n",
       "      <td>10</td>\n",
       "      <td>Never-married</td>\n",
       "      <td>Never worked</td>\n",
       "      <td>Own-child</td>\n",
       "      <td>Male</td>\n",
       "      <td>0</td>\n",
       "      <td>0</td>\n",
       "      <td>4</td>\n",
       "      <td>United-States</td>\n",
       "      <td>&lt;=50K</td>\n",
       "    </tr>\n",
       "  </tbody>\n",
       "</table>\n",
       "</div>"
      ],
      "text/plain": [
       "       age     workclass  fnlwgt      education  education-num  \\\n",
       "5361    18  Never-worked  206359           10th              6   \n",
       "10845   23  Never-worked  188535        7th-8th              4   \n",
       "14772   17  Never-worked  237272           10th              6   \n",
       "20337   18  Never-worked  157131           11th              7   \n",
       "23232   20  Never-worked  462294   Some-college             10   \n",
       "32304   30  Never-worked  176673        HS-grad              9   \n",
       "32314   18  Never-worked  153663   Some-college             10   \n",
       "\n",
       "            marital-status    occupation    relationship      sex  \\\n",
       "5361         Never-married  Never worked       Own-child     Male   \n",
       "10845             Divorced  Never worked   Not-in-family     Male   \n",
       "14772        Never-married  Never worked       Own-child     Male   \n",
       "20337        Never-married  Never worked       Own-child   Female   \n",
       "23232        Never-married  Never worked       Own-child     Male   \n",
       "32304   Married-civ-spouse  Never worked            Wife   Female   \n",
       "32314        Never-married  Never worked       Own-child     Male   \n",
       "\n",
       "       capital-gain  capital-loss  hours-per-week  native-country    wage  \n",
       "5361              0             0              40   United-States   <=50K  \n",
       "10845             0             0              35   United-States   <=50K  \n",
       "14772             0             0              30   United-States   <=50K  \n",
       "20337             0             0              10   United-States   <=50K  \n",
       "23232             0             0              40   United-States   <=50K  \n",
       "32304             0             0              40   United-States   <=50K  \n",
       "32314             0             0               4   United-States   <=50K  "
      ]
     },
     "execution_count": 12,
     "metadata": {},
     "output_type": "execute_result"
    }
   ],
   "source": [
    "# Looking at those in the workclass column that have never worked\n",
    "large_df[large_df['workclass'] == 'Never-worked']"
   ]
  },
  {
   "cell_type": "markdown",
   "metadata": {},
   "source": [
    "### Cleaning Native-Country Column"
   ]
  },
  {
   "cell_type": "code",
   "execution_count": 13,
   "metadata": {
    "scrolled": true
   },
   "outputs": [
    {
     "data": {
      "text/plain": [
       "array([' United-States', ' Cuba', ' Jamaica', ' India', ' ?', ' Mexico',\n",
       "       ' Puerto-Rico', ' Honduras', ' England', ' Canada', ' Germany',\n",
       "       ' Iran', ' Philippines', ' Poland', ' Columbia', ' Cambodia',\n",
       "       ' Thailand', ' Ecuador', ' Laos', ' Taiwan', ' Haiti', ' Portugal',\n",
       "       ' Dominican-Republic', ' El-Salvador', ' France', ' Guatemala',\n",
       "       ' Italy', ' China', ' South', ' Japan', ' Yugoslavia', ' Peru',\n",
       "       ' Outlying-US(Guam-USVI-etc)', ' Scotland', ' Trinadad&Tobago',\n",
       "       ' Greece', ' Nicaragua', ' Vietnam', ' Hong', ' Ireland',\n",
       "       ' Hungary', ' Holand-Netherlands'], dtype=object)"
      ]
     },
     "execution_count": 13,
     "metadata": {},
     "output_type": "execute_result"
    }
   ],
   "source": [
    "# Finding an error in countries, ?\n",
    "large_df['native-country'].unique()"
   ]
  },
  {
   "cell_type": "code",
   "execution_count": 14,
   "metadata": {},
   "outputs": [],
   "source": [
    "# Replacing native-country question marks with unknown, we do want to replace with a random country without knowing\n",
    "large_df['native-country'] = large_df['native-country'].replace(\" ?\", \"Unknown\")"
   ]
  },
  {
   "cell_type": "markdown",
   "metadata": {},
   "source": [
    "### Checking For .Unique Errors"
   ]
  },
  {
   "cell_type": "code",
   "execution_count": 15,
   "metadata": {},
   "outputs": [
    {
     "data": {
      "text/plain": [
       "Index(['age', 'workclass', 'fnlwgt', 'education', 'education-num',\n",
       "       'marital-status', 'occupation', 'relationship', 'sex', 'capital-gain',\n",
       "       'capital-loss', 'hours-per-week', 'native-country', 'wage'],\n",
       "      dtype='object')"
      ]
     },
     "execution_count": 15,
     "metadata": {},
     "output_type": "execute_result"
    }
   ],
   "source": [
    "# Visualizing columns to error check\n",
    "large_df.columns"
   ]
  },
  {
   "cell_type": "code",
   "execution_count": 16,
   "metadata": {
    "scrolled": true
   },
   "outputs": [
    {
     "data": {
      "text/plain": [
       "array([39, 50, 38, 53, 28, 37, 49, 52, 31, 42, 30, 23, 32, 40, 34, 25, 43,\n",
       "       54, 35, 59, 56, 19, 20, 45, 22, 48, 21, 24, 57, 44, 41, 29, 18, 47,\n",
       "       46, 36, 79, 27, 33, 76, 55, 61, 70, 64, 71, 66, 51, 58, 26, 17, 60,\n",
       "       90, 75, 65, 77, 62, 63, 67, 74, 72, 69, 68, 73, 81, 78, 88, 80, 84,\n",
       "       83, 85, 82, 86], dtype=int64)"
      ]
     },
     "execution_count": 16,
     "metadata": {},
     "output_type": "execute_result"
    }
   ],
   "source": [
    "# Checking age values for errors\n",
    "large_df['age'].unique()"
   ]
  },
  {
   "cell_type": "code",
   "execution_count": 17,
   "metadata": {
    "scrolled": true
   },
   "outputs": [
    {
     "data": {
      "text/plain": [
       "array(['State-gov', 'Self-emp-not-inc', 'Private', 'Federal-gov',\n",
       "       'Local-gov', 'Self-emp-inc', 'Without-pay', 'Never-worked'],\n",
       "      dtype=object)"
      ]
     },
     "execution_count": 17,
     "metadata": {},
     "output_type": "execute_result"
    }
   ],
   "source": [
    "# Checking age values for errors\n",
    "large_df['workclass'].unique()"
   ]
  },
  {
   "cell_type": "code",
   "execution_count": 18,
   "metadata": {},
   "outputs": [
    {
     "data": {
      "text/plain": [
       "array([' Bachelors', ' HS-grad', ' 11th', ' Masters', ' 9th',\n",
       "       ' Some-college', ' Assoc-acdm', ' Assoc-voc', ' 7th-8th',\n",
       "       ' Doctorate', ' Prof-school', ' 5th-6th', ' 10th', ' Preschool',\n",
       "       ' 12th', ' 1st-4th'], dtype=object)"
      ]
     },
     "execution_count": 18,
     "metadata": {},
     "output_type": "execute_result"
    }
   ],
   "source": [
    "# Checking age values for errors\n",
    "large_df['education'].unique()"
   ]
  },
  {
   "cell_type": "code",
   "execution_count": 19,
   "metadata": {},
   "outputs": [
    {
     "data": {
      "text/plain": [
       "array([' Never-married', ' Married-civ-spouse', ' Divorced',\n",
       "       ' Married-spouse-absent', ' Separated', ' Married-AF-spouse',\n",
       "       ' Widowed'], dtype=object)"
      ]
     },
     "execution_count": 19,
     "metadata": {},
     "output_type": "execute_result"
    }
   ],
   "source": [
    "# Checking age values for errors\n",
    "large_df['marital-status'].unique()"
   ]
  },
  {
   "cell_type": "code",
   "execution_count": 20,
   "metadata": {},
   "outputs": [
    {
     "data": {
      "text/plain": [
       "array([' Adm-clerical', ' Exec-managerial', ' Handlers-cleaners',\n",
       "       ' Prof-specialty', ' Other-service', ' Sales', ' Craft-repair',\n",
       "       ' Transport-moving', ' Farming-fishing', ' Machine-op-inspct',\n",
       "       ' Tech-support', ' Protective-serv', ' Armed-Forces',\n",
       "       ' Priv-house-serv', 'Never worked'], dtype=object)"
      ]
     },
     "execution_count": 20,
     "metadata": {},
     "output_type": "execute_result"
    }
   ],
   "source": [
    "# Checking age values for errors\n",
    "large_df['occupation'].unique()"
   ]
  },
  {
   "cell_type": "code",
   "execution_count": 21,
   "metadata": {
    "scrolled": true
   },
   "outputs": [
    {
     "data": {
      "text/plain": [
       "array([' Not-in-family', ' Husband', ' Wife', ' Own-child', ' Unmarried',\n",
       "       ' Other-relative'], dtype=object)"
      ]
     },
     "execution_count": 21,
     "metadata": {},
     "output_type": "execute_result"
    }
   ],
   "source": [
    "# Checking age values for errors\n",
    "large_df['relationship'].unique()"
   ]
  },
  {
   "cell_type": "code",
   "execution_count": 22,
   "metadata": {},
   "outputs": [
    {
     "data": {
      "text/plain": [
       "array([' Male', ' Female'], dtype=object)"
      ]
     },
     "execution_count": 22,
     "metadata": {},
     "output_type": "execute_result"
    }
   ],
   "source": [
    "# Checking age values for errors\n",
    "large_df['sex'].unique()"
   ]
  },
  {
   "cell_type": "code",
   "execution_count": 23,
   "metadata": {
    "scrolled": true
   },
   "outputs": [
    {
     "data": {
      "text/plain": [
       "array([' United-States', ' Cuba', ' Jamaica', ' India', 'Unknown',\n",
       "       ' Mexico', ' Puerto-Rico', ' Honduras', ' England', ' Canada',\n",
       "       ' Germany', ' Iran', ' Philippines', ' Poland', ' Columbia',\n",
       "       ' Cambodia', ' Thailand', ' Ecuador', ' Laos', ' Taiwan', ' Haiti',\n",
       "       ' Portugal', ' Dominican-Republic', ' El-Salvador', ' France',\n",
       "       ' Guatemala', ' Italy', ' China', ' South', ' Japan',\n",
       "       ' Yugoslavia', ' Peru', ' Outlying-US(Guam-USVI-etc)', ' Scotland',\n",
       "       ' Trinadad&Tobago', ' Greece', ' Nicaragua', ' Vietnam', ' Hong',\n",
       "       ' Ireland', ' Hungary', ' Holand-Netherlands'], dtype=object)"
      ]
     },
     "execution_count": 23,
     "metadata": {},
     "output_type": "execute_result"
    }
   ],
   "source": [
    "# Checking age values for errors\n",
    "large_df['native-country'].unique()"
   ]
  },
  {
   "cell_type": "code",
   "execution_count": 24,
   "metadata": {},
   "outputs": [
    {
     "data": {
      "text/plain": [
       "array([' <=50K', ' >50K'], dtype=object)"
      ]
     },
     "execution_count": 24,
     "metadata": {},
     "output_type": "execute_result"
    }
   ],
   "source": [
    "# Checking age values for errors\n",
    "large_df['wage'].unique()"
   ]
  },
  {
   "cell_type": "markdown",
   "metadata": {},
   "source": [
    "### Removing Spaces In Workclass, Native Country, Occupation, Relationship, Marital Status, Education"
   ]
  },
  {
   "cell_type": "code",
   "execution_count": 25,
   "metadata": {},
   "outputs": [],
   "source": [
    "# Stripping columns with spaces in them\n",
    "# Easier to work with\n",
    "large_df['workclass'] = large_df['workclass'].map(lambda x: x.strip())\n",
    "large_df['native-country'] = large_df['native-country'].map(lambda x: x.strip())\n",
    "large_df['occupation'] = large_df['occupation'].map(lambda x: x.strip())\n",
    "large_df['relationship'] = large_df['relationship'].map(lambda x: x.strip())\n",
    "large_df['marital-status'] = large_df['marital-status'].map(lambda x: x.strip())\n",
    "large_df['education'] = large_df['education'].map(lambda x: x.strip())"
   ]
  },
  {
   "cell_type": "markdown",
   "metadata": {},
   "source": [
    "### Mapping Column Wage and Column Sex"
   ]
  },
  {
   "cell_type": "code",
   "execution_count": 26,
   "metadata": {},
   "outputs": [],
   "source": [
    "# Mapping wage, over 50k as 1, under 50k as 0\n",
    "large_df['wage'] = large_df['wage'].map({' <=50K'  : 0 , ' >50K':1})"
   ]
  },
  {
   "cell_type": "code",
   "execution_count": 27,
   "metadata": {},
   "outputs": [],
   "source": [
    "# Mapping sex, male as 0, female as 0\n",
    "large_df['sex'] = large_df['sex'].map({' Male'  : 0 , ' Female':1})"
   ]
  },
  {
   "cell_type": "markdown",
   "metadata": {},
   "source": [
    "### Outlier Assessment"
   ]
  },
  {
   "cell_type": "code",
   "execution_count": 28,
   "metadata": {},
   "outputs": [],
   "source": [
    "# sns.pairplot(data = large_df, corner = True); "
   ]
  },
  {
   "cell_type": "markdown",
   "metadata": {},
   "source": [
    "### Feature Engineering"
   ]
  },
  {
   "cell_type": "code",
   "execution_count": 29,
   "metadata": {},
   "outputs": [
    {
     "data": {
      "text/html": [
       "<div>\n",
       "<style scoped>\n",
       "    .dataframe tbody tr th:only-of-type {\n",
       "        vertical-align: middle;\n",
       "    }\n",
       "\n",
       "    .dataframe tbody tr th {\n",
       "        vertical-align: top;\n",
       "    }\n",
       "\n",
       "    .dataframe thead th {\n",
       "        text-align: right;\n",
       "    }\n",
       "</style>\n",
       "<table border=\"1\" class=\"dataframe\">\n",
       "  <thead>\n",
       "    <tr style=\"text-align: right;\">\n",
       "      <th></th>\n",
       "      <th>age</th>\n",
       "      <th>workclass</th>\n",
       "      <th>fnlwgt</th>\n",
       "      <th>education</th>\n",
       "      <th>education-num</th>\n",
       "      <th>marital-status</th>\n",
       "      <th>occupation</th>\n",
       "      <th>relationship</th>\n",
       "      <th>sex</th>\n",
       "      <th>capital-gain</th>\n",
       "      <th>capital-loss</th>\n",
       "      <th>hours-per-week</th>\n",
       "      <th>native-country</th>\n",
       "      <th>wage</th>\n",
       "    </tr>\n",
       "  </thead>\n",
       "  <tbody>\n",
       "    <tr>\n",
       "      <th>0</th>\n",
       "      <td>39</td>\n",
       "      <td>State-gov</td>\n",
       "      <td>77516</td>\n",
       "      <td>Bachelors</td>\n",
       "      <td>13</td>\n",
       "      <td>Never-married</td>\n",
       "      <td>Adm-clerical</td>\n",
       "      <td>Not-in-family</td>\n",
       "      <td>0</td>\n",
       "      <td>2174</td>\n",
       "      <td>0</td>\n",
       "      <td>40</td>\n",
       "      <td>United-States</td>\n",
       "      <td>0</td>\n",
       "    </tr>\n",
       "    <tr>\n",
       "      <th>1</th>\n",
       "      <td>50</td>\n",
       "      <td>Self-emp-not-inc</td>\n",
       "      <td>83311</td>\n",
       "      <td>Bachelors</td>\n",
       "      <td>13</td>\n",
       "      <td>Married-civ-spouse</td>\n",
       "      <td>Exec-managerial</td>\n",
       "      <td>Husband</td>\n",
       "      <td>0</td>\n",
       "      <td>0</td>\n",
       "      <td>0</td>\n",
       "      <td>13</td>\n",
       "      <td>United-States</td>\n",
       "      <td>0</td>\n",
       "    </tr>\n",
       "    <tr>\n",
       "      <th>2</th>\n",
       "      <td>38</td>\n",
       "      <td>Private</td>\n",
       "      <td>215646</td>\n",
       "      <td>HS-grad</td>\n",
       "      <td>9</td>\n",
       "      <td>Divorced</td>\n",
       "      <td>Handlers-cleaners</td>\n",
       "      <td>Not-in-family</td>\n",
       "      <td>0</td>\n",
       "      <td>0</td>\n",
       "      <td>0</td>\n",
       "      <td>40</td>\n",
       "      <td>United-States</td>\n",
       "      <td>0</td>\n",
       "    </tr>\n",
       "    <tr>\n",
       "      <th>3</th>\n",
       "      <td>53</td>\n",
       "      <td>Private</td>\n",
       "      <td>234721</td>\n",
       "      <td>11th</td>\n",
       "      <td>7</td>\n",
       "      <td>Married-civ-spouse</td>\n",
       "      <td>Handlers-cleaners</td>\n",
       "      <td>Husband</td>\n",
       "      <td>0</td>\n",
       "      <td>0</td>\n",
       "      <td>0</td>\n",
       "      <td>40</td>\n",
       "      <td>United-States</td>\n",
       "      <td>0</td>\n",
       "    </tr>\n",
       "    <tr>\n",
       "      <th>4</th>\n",
       "      <td>28</td>\n",
       "      <td>Private</td>\n",
       "      <td>338409</td>\n",
       "      <td>Bachelors</td>\n",
       "      <td>13</td>\n",
       "      <td>Married-civ-spouse</td>\n",
       "      <td>Prof-specialty</td>\n",
       "      <td>Wife</td>\n",
       "      <td>1</td>\n",
       "      <td>0</td>\n",
       "      <td>0</td>\n",
       "      <td>40</td>\n",
       "      <td>Cuba</td>\n",
       "      <td>0</td>\n",
       "    </tr>\n",
       "  </tbody>\n",
       "</table>\n",
       "</div>"
      ],
      "text/plain": [
       "   age         workclass  fnlwgt  education  education-num  \\\n",
       "0   39         State-gov   77516  Bachelors             13   \n",
       "1   50  Self-emp-not-inc   83311  Bachelors             13   \n",
       "2   38           Private  215646    HS-grad              9   \n",
       "3   53           Private  234721       11th              7   \n",
       "4   28           Private  338409  Bachelors             13   \n",
       "\n",
       "       marital-status         occupation   relationship  sex  capital-gain  \\\n",
       "0       Never-married       Adm-clerical  Not-in-family    0          2174   \n",
       "1  Married-civ-spouse    Exec-managerial        Husband    0             0   \n",
       "2            Divorced  Handlers-cleaners  Not-in-family    0             0   \n",
       "3  Married-civ-spouse  Handlers-cleaners        Husband    0             0   \n",
       "4  Married-civ-spouse     Prof-specialty           Wife    1             0   \n",
       "\n",
       "   capital-loss  hours-per-week native-country  wage  \n",
       "0             0              40  United-States     0  \n",
       "1             0              13  United-States     0  \n",
       "2             0              40  United-States     0  \n",
       "3             0              40  United-States     0  \n",
       "4             0              40           Cuba     0  "
      ]
     },
     "execution_count": 29,
     "metadata": {},
     "output_type": "execute_result"
    }
   ],
   "source": [
    "# COMING BACK TO F.E. AFTER MODELING\n",
    "large_df.head()"
   ]
  },
  {
   "cell_type": "markdown",
   "metadata": {},
   "source": [
    "### Dummify Categoricals"
   ]
  },
  {
   "cell_type": "code",
   "execution_count": 30,
   "metadata": {},
   "outputs": [
    {
     "data": {
      "text/plain": [
       "Index(['age', 'workclass', 'fnlwgt', 'education', 'education-num',\n",
       "       'marital-status', 'occupation', 'relationship', 'sex', 'capital-gain',\n",
       "       'capital-loss', 'hours-per-week', 'native-country', 'wage'],\n",
       "      dtype='object')"
      ]
     },
     "execution_count": 30,
     "metadata": {},
     "output_type": "execute_result"
    }
   ],
   "source": [
    "# Looking at columns we want to dummify\n",
    "large_df.columns"
   ]
  },
  {
   "cell_type": "code",
   "execution_count": 31,
   "metadata": {},
   "outputs": [
    {
     "data": {
      "text/html": [
       "<div>\n",
       "<style scoped>\n",
       "    .dataframe tbody tr th:only-of-type {\n",
       "        vertical-align: middle;\n",
       "    }\n",
       "\n",
       "    .dataframe tbody tr th {\n",
       "        vertical-align: top;\n",
       "    }\n",
       "\n",
       "    .dataframe thead th {\n",
       "        text-align: right;\n",
       "    }\n",
       "</style>\n",
       "<table border=\"1\" class=\"dataframe\">\n",
       "  <thead>\n",
       "    <tr style=\"text-align: right;\">\n",
       "      <th></th>\n",
       "      <th>age</th>\n",
       "      <th>fnlwgt</th>\n",
       "      <th>education-num</th>\n",
       "      <th>sex</th>\n",
       "      <th>capital-gain</th>\n",
       "      <th>capital-loss</th>\n",
       "      <th>hours-per-week</th>\n",
       "      <th>wage</th>\n",
       "      <th>workclass_Local-gov</th>\n",
       "      <th>workclass_Never-worked</th>\n",
       "      <th>...</th>\n",
       "      <th>native-country_Puerto-Rico</th>\n",
       "      <th>native-country_Scotland</th>\n",
       "      <th>native-country_South</th>\n",
       "      <th>native-country_Taiwan</th>\n",
       "      <th>native-country_Thailand</th>\n",
       "      <th>native-country_Trinadad&amp;Tobago</th>\n",
       "      <th>native-country_United-States</th>\n",
       "      <th>native-country_Unknown</th>\n",
       "      <th>native-country_Vietnam</th>\n",
       "      <th>native-country_Yugoslavia</th>\n",
       "    </tr>\n",
       "  </thead>\n",
       "  <tbody>\n",
       "    <tr>\n",
       "      <th>0</th>\n",
       "      <td>39</td>\n",
       "      <td>77516</td>\n",
       "      <td>13</td>\n",
       "      <td>0</td>\n",
       "      <td>2174</td>\n",
       "      <td>0</td>\n",
       "      <td>40</td>\n",
       "      <td>0</td>\n",
       "      <td>0</td>\n",
       "      <td>0</td>\n",
       "      <td>...</td>\n",
       "      <td>0</td>\n",
       "      <td>0</td>\n",
       "      <td>0</td>\n",
       "      <td>0</td>\n",
       "      <td>0</td>\n",
       "      <td>0</td>\n",
       "      <td>1</td>\n",
       "      <td>0</td>\n",
       "      <td>0</td>\n",
       "      <td>0</td>\n",
       "    </tr>\n",
       "    <tr>\n",
       "      <th>1</th>\n",
       "      <td>50</td>\n",
       "      <td>83311</td>\n",
       "      <td>13</td>\n",
       "      <td>0</td>\n",
       "      <td>0</td>\n",
       "      <td>0</td>\n",
       "      <td>13</td>\n",
       "      <td>0</td>\n",
       "      <td>0</td>\n",
       "      <td>0</td>\n",
       "      <td>...</td>\n",
       "      <td>0</td>\n",
       "      <td>0</td>\n",
       "      <td>0</td>\n",
       "      <td>0</td>\n",
       "      <td>0</td>\n",
       "      <td>0</td>\n",
       "      <td>1</td>\n",
       "      <td>0</td>\n",
       "      <td>0</td>\n",
       "      <td>0</td>\n",
       "    </tr>\n",
       "    <tr>\n",
       "      <th>2</th>\n",
       "      <td>38</td>\n",
       "      <td>215646</td>\n",
       "      <td>9</td>\n",
       "      <td>0</td>\n",
       "      <td>0</td>\n",
       "      <td>0</td>\n",
       "      <td>40</td>\n",
       "      <td>0</td>\n",
       "      <td>0</td>\n",
       "      <td>0</td>\n",
       "      <td>...</td>\n",
       "      <td>0</td>\n",
       "      <td>0</td>\n",
       "      <td>0</td>\n",
       "      <td>0</td>\n",
       "      <td>0</td>\n",
       "      <td>0</td>\n",
       "      <td>1</td>\n",
       "      <td>0</td>\n",
       "      <td>0</td>\n",
       "      <td>0</td>\n",
       "    </tr>\n",
       "    <tr>\n",
       "      <th>3</th>\n",
       "      <td>53</td>\n",
       "      <td>234721</td>\n",
       "      <td>7</td>\n",
       "      <td>0</td>\n",
       "      <td>0</td>\n",
       "      <td>0</td>\n",
       "      <td>40</td>\n",
       "      <td>0</td>\n",
       "      <td>0</td>\n",
       "      <td>0</td>\n",
       "      <td>...</td>\n",
       "      <td>0</td>\n",
       "      <td>0</td>\n",
       "      <td>0</td>\n",
       "      <td>0</td>\n",
       "      <td>0</td>\n",
       "      <td>0</td>\n",
       "      <td>1</td>\n",
       "      <td>0</td>\n",
       "      <td>0</td>\n",
       "      <td>0</td>\n",
       "    </tr>\n",
       "    <tr>\n",
       "      <th>4</th>\n",
       "      <td>28</td>\n",
       "      <td>338409</td>\n",
       "      <td>13</td>\n",
       "      <td>1</td>\n",
       "      <td>0</td>\n",
       "      <td>0</td>\n",
       "      <td>40</td>\n",
       "      <td>0</td>\n",
       "      <td>0</td>\n",
       "      <td>0</td>\n",
       "      <td>...</td>\n",
       "      <td>0</td>\n",
       "      <td>0</td>\n",
       "      <td>0</td>\n",
       "      <td>0</td>\n",
       "      <td>0</td>\n",
       "      <td>0</td>\n",
       "      <td>0</td>\n",
       "      <td>0</td>\n",
       "      <td>0</td>\n",
       "      <td>0</td>\n",
       "    </tr>\n",
       "  </tbody>\n",
       "</table>\n",
       "<p>5 rows × 96 columns</p>\n",
       "</div>"
      ],
      "text/plain": [
       "   age  fnlwgt  education-num  sex  capital-gain  capital-loss  \\\n",
       "0   39   77516             13    0          2174             0   \n",
       "1   50   83311             13    0             0             0   \n",
       "2   38  215646              9    0             0             0   \n",
       "3   53  234721              7    0             0             0   \n",
       "4   28  338409             13    1             0             0   \n",
       "\n",
       "   hours-per-week  wage  workclass_Local-gov  workclass_Never-worked  ...  \\\n",
       "0              40     0                    0                       0  ...   \n",
       "1              13     0                    0                       0  ...   \n",
       "2              40     0                    0                       0  ...   \n",
       "3              40     0                    0                       0  ...   \n",
       "4              40     0                    0                       0  ...   \n",
       "\n",
       "   native-country_Puerto-Rico  native-country_Scotland  native-country_South  \\\n",
       "0                           0                        0                     0   \n",
       "1                           0                        0                     0   \n",
       "2                           0                        0                     0   \n",
       "3                           0                        0                     0   \n",
       "4                           0                        0                     0   \n",
       "\n",
       "   native-country_Taiwan  native-country_Thailand  \\\n",
       "0                      0                        0   \n",
       "1                      0                        0   \n",
       "2                      0                        0   \n",
       "3                      0                        0   \n",
       "4                      0                        0   \n",
       "\n",
       "   native-country_Trinadad&Tobago  native-country_United-States  \\\n",
       "0                               0                             1   \n",
       "1                               0                             1   \n",
       "2                               0                             1   \n",
       "3                               0                             1   \n",
       "4                               0                             0   \n",
       "\n",
       "   native-country_Unknown  native-country_Vietnam  native-country_Yugoslavia  \n",
       "0                       0                       0                          0  \n",
       "1                       0                       0                          0  \n",
       "2                       0                       0                          0  \n",
       "3                       0                       0                          0  \n",
       "4                       0                       0                          0  \n",
       "\n",
       "[5 rows x 96 columns]"
      ]
     },
     "execution_count": 31,
     "metadata": {},
     "output_type": "execute_result"
    }
   ],
   "source": [
    "# Dummify workclass, education, martial status, occupation, relationship and native country\n",
    "large_df = pd.get_dummies(data = large_df, columns = ['workclass', 'education', 'marital-status', 'occupation', 'relationship', 'native-country'], drop_first = True)\n",
    "large_df.head()"
   ]
  },
  {
   "cell_type": "code",
   "execution_count": 32,
   "metadata": {
    "scrolled": true
   },
   "outputs": [
    {
     "data": {
      "text/plain": [
       "age                               int64\n",
       "fnlwgt                            int64\n",
       "education-num                     int64\n",
       "sex                               int64\n",
       "capital-gain                      int64\n",
       "                                  ...  \n",
       "native-country_Trinadad&Tobago    uint8\n",
       "native-country_United-States      uint8\n",
       "native-country_Unknown            uint8\n",
       "native-country_Vietnam            uint8\n",
       "native-country_Yugoslavia         uint8\n",
       "Length: 96, dtype: object"
      ]
     },
     "execution_count": 32,
     "metadata": {},
     "output_type": "execute_result"
    }
   ],
   "source": [
    "# Checking datatypes before moving forward\n",
    "large_df.dtypes"
   ]
  },
  {
   "cell_type": "markdown",
   "metadata": {},
   "source": [
    "### Rename Sex and Wage"
   ]
  },
  {
   "cell_type": "code",
   "execution_count": 33,
   "metadata": {},
   "outputs": [],
   "source": [
    "# Renaming sex to is_female, and wage to over_50k because we mapped these columns earlier\n",
    "large_df = large_df.rename(columns = {'sex': 'is_female', 'wage':'over_50k'})"
   ]
  },
  {
   "cell_type": "markdown",
   "metadata": {},
   "source": [
    "### Feature Engineering"
   ]
  },
  {
   "cell_type": "code",
   "execution_count": 63,
   "metadata": {
    "scrolled": true
   },
   "outputs": [
    {
     "data": {
      "text/plain": [
       "0        39\n",
       "1        50\n",
       "2        38\n",
       "3        53\n",
       "4        28\n",
       "         ..\n",
       "32556    27\n",
       "32557    40\n",
       "32558    58\n",
       "32559    22\n",
       "32560    52\n",
       "Name: age, Length: 30725, dtype: int64"
      ]
     },
     "execution_count": 63,
     "metadata": {},
     "output_type": "execute_result"
    }
   ],
   "source": [
    "large_df['age']"
   ]
  },
  {
   "cell_type": "code",
   "execution_count": 65,
   "metadata": {},
   "outputs": [
    {
     "data": {
      "text/plain": [
       "0        1521\n",
       "1        2500\n",
       "2        1444\n",
       "3        2809\n",
       "4         784\n",
       "         ... \n",
       "32556     729\n",
       "32557    1600\n",
       "32558    3364\n",
       "32559     484\n",
       "32560    2704\n",
       "Name: age_squared, Length: 30725, dtype: int64"
      ]
     },
     "execution_count": 65,
     "metadata": {},
     "output_type": "execute_result"
    }
   ],
   "source": [
    "large_df['age_squared'] = large_df['age'] ** 2\n",
    "large_df['age_squared']"
   ]
  },
  {
   "cell_type": "markdown",
   "metadata": {},
   "source": [
    "### Correlation Matrix"
   ]
  },
  {
   "cell_type": "code",
   "execution_count": 66,
   "metadata": {},
   "outputs": [
    {
     "data": {
      "image/png": "[encoded data removed]",
      "text/plain": [
       "<Figure size 720x2160 with 2 Axes>"
      ]
     },
     "metadata": {
      "needs_background": "light"
     },
     "output_type": "display_data"
    }
   ],
   "source": [
    "# Setting figure size for correlation\n",
    "plt.figure(figsize=(10, 30))\n",
    "\n",
    "# Setting variable large_corr as correlations with over_50k\n",
    "large_corr = large_df.corr()[['over_50k']]\n",
    "\n",
    "# Using seaborn heatmap to display correlations between Over_50k (originally wage)\n",
    "sns.heatmap(large_corr.sort_values(by='over_50k', ascending=False),\n",
    "            vmin = -1, vmax=1,\n",
    "            cmap ='Accent_r',\n",
    "            annot = True,);\n",
    "\n",
    "# Setting title\n",
    "plt.title(\"Correlation With Over_50k\", size = 20);"
   ]
  },
  {
   "cell_type": "code",
   "execution_count": 35,
   "metadata": {},
   "outputs": [],
   "source": [
    "# top_ten_corr = large_corr[large_corr['over_50k'] > 0].sort_values(by = 'over_50k', ascending=False)[0:11]\n",
    "# top_ten_index = list(top_ten_corr.index)\n",
    "# top_ten_index.remove('over_50k')\n",
    "# top_ten_index"
   ]
  },
  {
   "cell_type": "code",
   "execution_count": 36,
   "metadata": {},
   "outputs": [],
   "source": [
    "# lowest_ten_corr = large_corr[large_corr['over_50k'] < 0].sort_values(by = 'over_50k', ascending=True)[0:10]\n",
    "# lowest_ten_index = list(lowest_ten_corr.index)\n",
    "# lowest_ten_index"
   ]
  },
  {
   "cell_type": "markdown",
   "metadata": {},
   "source": [
    "### Model Prep: Create X and y variables"
   ]
  },
  {
   "cell_type": "code",
   "execution_count": 73,
   "metadata": {},
   "outputs": [],
   "source": [
    "# Setting features as top ten correlated and lowest ten correlated\n",
    "features = ['marital-status_Married-civ-spouse', 'education-num', 'age', 'hours-per-week',\n",
    " 'capital-gain', 'occupation_Exec-managerial', 'occupation_Prof-specialty', 'education_Bachelors',\n",
    " 'education_Masters', 'education_Prof-school', 'marital-status_Never-married', 'relationship_Own-child',\n",
    " 'is_female', 'relationship_Not-in-family', 'occupation_Other-service', 'relationship_Unmarried', \n",
    "'education_HS-grad', 'workclass_Private', 'occupation_Handlers-cleaners', 'relationship_Other-relative']\n",
    "\n",
    "# X equal to features set above\n",
    "X = large_df[features]\n",
    "\n",
    "# y set to 'over_50k' (originally wage)\n",
    "y = large_df['over_50k']"
   ]
  },
  {
   "cell_type": "code",
   "execution_count": 79,
   "metadata": {},
   "outputs": [],
   "source": [
    "X_two = large_df.drop(columns = ['over_50k'])\n",
    "\n",
    "y_two = large_df['over_50k']"
   ]
  },
  {
   "cell_type": "markdown",
   "metadata": {},
   "source": [
    "### Baseline Accuracy"
   ]
  },
  {
   "cell_type": "code",
   "execution_count": 38,
   "metadata": {},
   "outputs": [
    {
     "data": {
      "text/plain": [
       "0    0.751017\n",
       "1    0.248983\n",
       "Name: over_50k, dtype: float64"
      ]
     },
     "execution_count": 38,
     "metadata": {},
     "output_type": "execute_result"
    }
   ],
   "source": [
    "# Calculating baseline accuracy\n",
    "y.value_counts(normalize = True)"
   ]
  },
  {
   "cell_type": "markdown",
   "metadata": {},
   "source": [
    "### Train Test Split"
   ]
  },
  {
   "cell_type": "code",
   "execution_count": 74,
   "metadata": {},
   "outputs": [],
   "source": [
    "# Setting up Train Test Split\n",
    "X_train, X_test, y_train, y_test = train_test_split(X, y, \n",
    "                                                  random_state=42, \n",
    "                                                  stratify=y)"
   ]
  },
  {
   "cell_type": "code",
   "execution_count": 80,
   "metadata": {},
   "outputs": [],
   "source": [
    "X_train_two, X_test_two, y_train_two, y_test_two = train_test_split(X_two, y_two, \n",
    "                                                  random_state=42, \n",
    "                                                  stratify=y)"
   ]
  },
  {
   "cell_type": "markdown",
   "metadata": {},
   "source": [
    "### Model Instantiation"
   ]
  },
  {
   "cell_type": "code",
   "execution_count": 40,
   "metadata": {},
   "outputs": [],
   "source": [
    "# Instatiate random forest model\n",
    "rf = RandomForestClassifier()"
   ]
  },
  {
   "cell_type": "markdown",
   "metadata": {},
   "source": [
    "### Model Evaluation"
   ]
  },
  {
   "cell_type": "code",
   "execution_count": 41,
   "metadata": {},
   "outputs": [
    {
     "name": "stdout",
     "output_type": "stream",
     "text": [
      "Cross Val Score: 0.8268887129800391\n"
     ]
    }
   ],
   "source": [
    "# Calculating cross val score from random forest model\n",
    "print(\"Cross Val Score:\", cross_val_score(rf, X_train, y_train, cv = 5).mean())"
   ]
  },
  {
   "cell_type": "markdown",
   "metadata": {},
   "source": [
    "### Grid Search"
   ]
  },
  {
   "cell_type": "code",
   "execution_count": 42,
   "metadata": {},
   "outputs": [],
   "source": [
    "#model_params = {}\n",
    "#count = 0"
   ]
  },
  {
   "cell_type": "code",
   "execution_count": 53,
   "metadata": {
    "scrolled": false
   },
   "outputs": [
    {
     "data": {
      "text/html": [
       "<div>\n",
       "<style scoped>\n",
       "    .dataframe tbody tr th:only-of-type {\n",
       "        vertical-align: middle;\n",
       "    }\n",
       "\n",
       "    .dataframe tbody tr th {\n",
       "        vertical-align: top;\n",
       "    }\n",
       "\n",
       "    .dataframe thead th {\n",
       "        text-align: right;\n",
       "    }\n",
       "</style>\n",
       "<table border=\"1\" class=\"dataframe\">\n",
       "  <thead>\n",
       "    <tr style=\"text-align: right;\">\n",
       "      <th></th>\n",
       "      <th>max_depth</th>\n",
       "      <th>n_estimators</th>\n",
       "      <th>score</th>\n",
       "      <th>training_score</th>\n",
       "      <th>testing_score</th>\n",
       "    </tr>\n",
       "  </thead>\n",
       "  <tbody>\n",
       "    <tr>\n",
       "      <th>model_1</th>\n",
       "      <td>5</td>\n",
       "      <td>150</td>\n",
       "      <td>0.840863</td>\n",
       "      <td>0.841384</td>\n",
       "      <td>0.846264</td>\n",
       "    </tr>\n",
       "    <tr>\n",
       "      <th>model_2</th>\n",
       "      <td>8</td>\n",
       "      <td>75</td>\n",
       "      <td>0.846157</td>\n",
       "      <td>0.849846</td>\n",
       "      <td>0.851211</td>\n",
       "    </tr>\n",
       "    <tr>\n",
       "      <th>model_3</th>\n",
       "      <td>10</td>\n",
       "      <td>150</td>\n",
       "      <td>0.848544</td>\n",
       "      <td>0.858612</td>\n",
       "      <td>0.853163</td>\n",
       "    </tr>\n",
       "    <tr>\n",
       "      <th>model_4</th>\n",
       "      <td>12</td>\n",
       "      <td>150</td>\n",
       "      <td>0.849152</td>\n",
       "      <td>0.867205</td>\n",
       "      <td>0.851471</td>\n",
       "    </tr>\n",
       "    <tr>\n",
       "      <th>model_5</th>\n",
       "      <td>12</td>\n",
       "      <td>100</td>\n",
       "      <td>0.848978</td>\n",
       "      <td>0.866684</td>\n",
       "      <td>0.852773</td>\n",
       "    </tr>\n",
       "    <tr>\n",
       "      <th>model_6</th>\n",
       "      <td>12</td>\n",
       "      <td>110</td>\n",
       "      <td>0.848891</td>\n",
       "      <td>0.866901</td>\n",
       "      <td>0.852122</td>\n",
       "    </tr>\n",
       "    <tr>\n",
       "      <th>model_7</th>\n",
       "      <td>12</td>\n",
       "      <td>90</td>\n",
       "      <td>0.849195</td>\n",
       "      <td>0.866337</td>\n",
       "      <td>0.853554</td>\n",
       "    </tr>\n",
       "    <tr>\n",
       "      <th>model_8</th>\n",
       "      <td>11</td>\n",
       "      <td>105</td>\n",
       "      <td>0.849152</td>\n",
       "      <td>0.862778</td>\n",
       "      <td>0.852252</td>\n",
       "    </tr>\n",
       "  </tbody>\n",
       "</table>\n",
       "</div>"
      ],
      "text/plain": [
       "         max_depth  n_estimators     score  training_score  testing_score\n",
       "model_1          5           150  0.840863        0.841384       0.846264\n",
       "model_2          8            75  0.846157        0.849846       0.851211\n",
       "model_3         10           150  0.848544        0.858612       0.853163\n",
       "model_4         12           150  0.849152        0.867205       0.851471\n",
       "model_5         12           100  0.848978        0.866684       0.852773\n",
       "model_6         12           110  0.848891        0.866901       0.852122\n",
       "model_7         12            90  0.849195        0.866337       0.853554\n",
       "model_8         11           105  0.849152        0.862778       0.852252"
      ]
     },
     "execution_count": 53,
     "metadata": {},
     "output_type": "execute_result"
    }
   ],
   "source": [
    "# Setting random forest parameters\n",
    "rf_params = {\n",
    "    'n_estimators': [70, 75, 80, 85, 90, 95, 100, 105, 110],\n",
    "    'max_depth': [10, 11, 12, 13, 14, 15],\n",
    "}\n",
    "\n",
    "# Setting gridsearch using random forest, parameters as rf_params, cv of 5, and n_jobs of 12\n",
    "gs = GridSearchCV(rf, param_grid=rf_params, cv = 5, n_jobs = 12)\n",
    "\n",
    "# Fitting gridsearch with training data\n",
    "gs.fit(X_train, y_train)\n",
    "\n",
    "# Adding 1 to count for multiple model scores\n",
    "count += 1\n",
    "\n",
    "# Setting column score as gridsearch best score\n",
    "gs.best_params_['score'] = gs.best_score_\n",
    "\n",
    "# Setting column training score as gridsearch score on training data\n",
    "gs.best_params_['training_score'] = gs.score(X_train, y_train)\n",
    "\n",
    "# Setting column testing score as gridsearch score on testing data\n",
    "gs.best_params_['testing_score'] = gs.score(X_test, y_test)\n",
    "\n",
    "# Giving our index a numbering order (model_1, model_2, etc.)\n",
    "model_params[f'model_{count}'] = gs.best_params_\n",
    "\n",
    "# Creating a dataframe from our model creations\n",
    "model_df = pd.DataFrame.from_dict(model_params, orient='index')\n",
    "\n",
    "# Visualize dataframe\n",
    "model_df"
   ]
  },
  {
   "cell_type": "markdown",
   "metadata": {},
   "source": [
    "### GridSearch With All Columns"
   ]
  },
  {
   "cell_type": "code",
   "execution_count": 81,
   "metadata": {},
   "outputs": [],
   "source": [
    "#model_params_fe = {}\n",
    "#count_fe = 0"
   ]
  },
  {
   "cell_type": "code",
   "execution_count": 83,
   "metadata": {},
   "outputs": [
    {
     "data": {
      "text/html": [
       "<div>\n",
       "<style scoped>\n",
       "    .dataframe tbody tr th:only-of-type {\n",
       "        vertical-align: middle;\n",
       "    }\n",
       "\n",
       "    .dataframe tbody tr th {\n",
       "        vertical-align: top;\n",
       "    }\n",
       "\n",
       "    .dataframe thead th {\n",
       "        text-align: right;\n",
       "    }\n",
       "</style>\n",
       "<table border=\"1\" class=\"dataframe\">\n",
       "  <thead>\n",
       "    <tr style=\"text-align: right;\">\n",
       "      <th></th>\n",
       "      <th>max_depth</th>\n",
       "      <th>n_estimators</th>\n",
       "      <th>score</th>\n",
       "      <th>training_score</th>\n",
       "      <th>testing_score</th>\n",
       "    </tr>\n",
       "  </thead>\n",
       "  <tbody>\n",
       "    <tr>\n",
       "      <th>model_1</th>\n",
       "      <td>15</td>\n",
       "      <td>75</td>\n",
       "      <td>0.857918</td>\n",
       "      <td>0.885171</td>\n",
       "      <td>0.859021</td>\n",
       "    </tr>\n",
       "    <tr>\n",
       "      <th>model_2</th>\n",
       "      <td>17</td>\n",
       "      <td>75</td>\n",
       "      <td>0.860261</td>\n",
       "      <td>0.900577</td>\n",
       "      <td>0.860844</td>\n",
       "    </tr>\n",
       "  </tbody>\n",
       "</table>\n",
       "</div>"
      ],
      "text/plain": [
       "         max_depth  n_estimators     score  training_score  testing_score\n",
       "model_1         15            75  0.857918        0.885171       0.859021\n",
       "model_2         17            75  0.860261        0.900577       0.860844"
      ]
     },
     "execution_count": 83,
     "metadata": {},
     "output_type": "execute_result"
    }
   ],
   "source": [
    "# Setting random forest parameters\n",
    "rf_params = {\n",
    "    'n_estimators': [75],\n",
    "    'max_depth': [17],\n",
    "}\n",
    "\n",
    "# Setting gridsearch using random forest, parameters as rf_params, cv of 5, and n_jobs of 12\n",
    "gs_fe = GridSearchCV(rf, param_grid = rf_params, cv = 5, n_jobs = 12)\n",
    "\n",
    "# Fitting gridsearch with training data\n",
    "gs_fe.fit(X_train_two, y_train_two)\n",
    "\n",
    "# Adding 1 to count for multiple model scores\n",
    "count_fe += 1\n",
    "\n",
    "# Setting column score as gridsearch best score\n",
    "gs_fe.best_params_['score'] = gs_fe.best_score_\n",
    "\n",
    "# Setting column training score as gridsearch score on training data\n",
    "gs_fe.best_params_['training_score'] = gs_fe.score(X_train_two, y_train_two)\n",
    "\n",
    "# Setting column testing score as gridsearch score on testing data\n",
    "gs_fe.best_params_['testing_score'] = gs_fe.score(X_test_two, y_test_two)\n",
    "\n",
    "# Giving our index a numbering order (model_1, model_2, etc.)\n",
    "model_params_fe[f'model_{count_fe}'] = gs_fe.best_params_\n",
    "\n",
    "# Creating a dataframe from our model creations\n",
    "model_df_fe = pd.DataFrame.from_dict(model_params_fe, orient='index')\n",
    "\n",
    "# Visualize dataframe\n",
    "model_df_fe"
   ]
  },
  {
   "cell_type": "markdown",
   "metadata": {},
   "source": [
    "### AdaBoostClassifier"
   ]
  },
  {
   "cell_type": "code",
   "execution_count": 44,
   "metadata": {},
   "outputs": [],
   "source": [
    "#model_params_two = {}\n",
    "#count_two = 0"
   ]
  },
  {
   "cell_type": "code",
   "execution_count": 56,
   "metadata": {
    "scrolled": true
   },
   "outputs": [
    {
     "data": {
      "text/html": [
       "<div>\n",
       "<style scoped>\n",
       "    .dataframe tbody tr th:only-of-type {\n",
       "        vertical-align: middle;\n",
       "    }\n",
       "\n",
       "    .dataframe tbody tr th {\n",
       "        vertical-align: top;\n",
       "    }\n",
       "\n",
       "    .dataframe thead th {\n",
       "        text-align: right;\n",
       "    }\n",
       "</style>\n",
       "<table border=\"1\" class=\"dataframe\">\n",
       "  <thead>\n",
       "    <tr style=\"text-align: right;\">\n",
       "      <th></th>\n",
       "      <th>base_estimator__max_depth</th>\n",
       "      <th>learning_rate</th>\n",
       "      <th>n_estimators</th>\n",
       "      <th>score</th>\n",
       "      <th>training_score</th>\n",
       "      <th>testing_score</th>\n",
       "    </tr>\n",
       "  </thead>\n",
       "  <tbody>\n",
       "    <tr>\n",
       "      <th>model_1</th>\n",
       "      <td>2</td>\n",
       "      <td>1.00</td>\n",
       "      <td>100</td>\n",
       "      <td>0.851886</td>\n",
       "      <td>0.856312</td>\n",
       "      <td>0.854725</td>\n",
       "    </tr>\n",
       "    <tr>\n",
       "      <th>model_2</th>\n",
       "      <td>3</td>\n",
       "      <td>0.95</td>\n",
       "      <td>90</td>\n",
       "      <td>0.853795</td>\n",
       "      <td>0.862344</td>\n",
       "      <td>0.855637</td>\n",
       "    </tr>\n",
       "    <tr>\n",
       "      <th>model_3</th>\n",
       "      <td>3</td>\n",
       "      <td>0.90</td>\n",
       "      <td>100</td>\n",
       "      <td>0.853708</td>\n",
       "      <td>0.862344</td>\n",
       "      <td>0.856418</td>\n",
       "    </tr>\n",
       "  </tbody>\n",
       "</table>\n",
       "</div>"
      ],
      "text/plain": [
       "         base_estimator__max_depth  learning_rate  n_estimators     score  \\\n",
       "model_1                          2           1.00           100  0.851886   \n",
       "model_2                          3           0.95            90  0.853795   \n",
       "model_3                          3           0.90           100  0.853708   \n",
       "\n",
       "         training_score  testing_score  \n",
       "model_1        0.856312       0.854725  \n",
       "model_2        0.862344       0.855637  \n",
       "model_3        0.862344       0.856418  "
      ]
     },
     "execution_count": 56,
     "metadata": {},
     "output_type": "execute_result"
    }
   ],
   "source": [
    "# Instantiate adaboostclassifier\n",
    "ada = AdaBoostClassifier(base_estimator=RandomForestClassifier())\n",
    "\n",
    "# Setting adaboost parameters\n",
    "ada_params = {\n",
    "    'n_estimators': [80, 90, 100],\n",
    "    'base_estimator__max_depth': [2, 3, 4],\n",
    "    'learning_rate': [.90, .95, 1.]\n",
    "}\n",
    "\n",
    "# Setting gridsearch using adaboost, ada parameters, cross vals of 3, and n_jobs of 12\n",
    "gs_two = GridSearchCV(ada, param_grid=ada_params, cv=3, n_jobs = 12)\n",
    "\n",
    "# Fitting gridsearch with training data\n",
    "gs_two.fit(X_train, y_train)\n",
    "\n",
    "# Adding one to counter\n",
    "count_two += 1\n",
    "\n",
    "# Setting column score as gridsearch best score\n",
    "gs_two.best_params_['score'] = gs_two.best_score_\n",
    "\n",
    "# Setting column training score as gridsearch score on training data\n",
    "gs_two.best_params_['training_score'] = gs_two.score(X_train, y_train)\n",
    "\n",
    "# Setting column testing score as gridsearch score on testing data\n",
    "gs_two.best_params_['testing_score'] = gs_two.score(X_test, y_test)\n",
    "\n",
    "# Giving our index a numbering order (model_1, model_2, etc.)\n",
    "model_params_two[f'model_{count_two}'] = gs_two.best_params_\n",
    "\n",
    "# Creating a dataframe from our model creations\n",
    "model_df_two = pd.DataFrame.from_dict(model_params_two, orient='index')\n",
    "\n",
    "# Visualize dataframe\n",
    "model_df_two"
   ]
  },
  {
   "cell_type": "markdown",
   "metadata": {},
   "source": [
    "### AdaBoost Classifier All Columns"
   ]
  },
  {
   "cell_type": "code",
   "execution_count": 86,
   "metadata": {},
   "outputs": [],
   "source": [
    "#model_params_fe_two = {}\n",
    "#count_fe_two = 0"
   ]
  },
  {
   "cell_type": "code",
   "execution_count": 88,
   "metadata": {
    "scrolled": true
   },
   "outputs": [
    {
     "data": {
      "text/html": [
       "<div>\n",
       "<style scoped>\n",
       "    .dataframe tbody tr th:only-of-type {\n",
       "        vertical-align: middle;\n",
       "    }\n",
       "\n",
       "    .dataframe tbody tr th {\n",
       "        vertical-align: top;\n",
       "    }\n",
       "\n",
       "    .dataframe thead th {\n",
       "        text-align: right;\n",
       "    }\n",
       "</style>\n",
       "<table border=\"1\" class=\"dataframe\">\n",
       "  <thead>\n",
       "    <tr style=\"text-align: right;\">\n",
       "      <th></th>\n",
       "      <th>base_estimator__max_depth</th>\n",
       "      <th>learning_rate</th>\n",
       "      <th>n_estimators</th>\n",
       "      <th>score</th>\n",
       "      <th>training_score</th>\n",
       "      <th>testing_score</th>\n",
       "    </tr>\n",
       "  </thead>\n",
       "  <tbody>\n",
       "    <tr>\n",
       "      <th>model_1</th>\n",
       "      <td>4</td>\n",
       "      <td>0.90</td>\n",
       "      <td>90</td>\n",
       "      <td>0.866467</td>\n",
       "      <td>0.887081</td>\n",
       "      <td>0.868133</td>\n",
       "    </tr>\n",
       "    <tr>\n",
       "      <th>model_2</th>\n",
       "      <td>4</td>\n",
       "      <td>0.85</td>\n",
       "      <td>90</td>\n",
       "      <td>0.866814</td>\n",
       "      <td>0.885649</td>\n",
       "      <td>0.867352</td>\n",
       "    </tr>\n",
       "  </tbody>\n",
       "</table>\n",
       "</div>"
      ],
      "text/plain": [
       "         base_estimator__max_depth  learning_rate  n_estimators     score  \\\n",
       "model_1                          4           0.90            90  0.866467   \n",
       "model_2                          4           0.85            90  0.866814   \n",
       "\n",
       "         training_score  testing_score  \n",
       "model_1        0.887081       0.868133  \n",
       "model_2        0.885649       0.867352  "
      ]
     },
     "execution_count": 88,
     "metadata": {},
     "output_type": "execute_result"
    }
   ],
   "source": [
    "# Instantiate adaboostclassifier\n",
    "ada = AdaBoostClassifier(base_estimator=RandomForestClassifier())\n",
    "\n",
    "# Setting adaboost parameters\n",
    "ada_params = {\n",
    "    'n_estimators': [90],\n",
    "    'base_estimator__max_depth': [4],\n",
    "    'learning_rate': [.90]\n",
    "}\n",
    "\n",
    "# Setting gridsearch using adaboost, ada parameters, cross vals of 3, and n_jobs of 12\n",
    "gs_fe_two = GridSearchCV(ada, param_grid=ada_params, cv=3, n_jobs = 12)\n",
    "\n",
    "# Fitting gridsearch with training data\n",
    "gs_fe_two.fit(X_train_two, y_train_two)\n",
    "\n",
    "# Adding one to counter\n",
    "count_fe_two += 1\n",
    "\n",
    "# Setting column score as gridsearch best score\n",
    "gs_fe_two.best_params_['score'] = gs_fe_two.best_score_\n",
    "\n",
    "# Setting column training score as gridsearch score on training data\n",
    "gs_fe_two.best_params_['training_score'] = gs_fe_two.score(X_train_two, y_train_two)\n",
    "\n",
    "# Setting column testing score as gridsearch score on testing data\n",
    "gs_fe_two.best_params_['testing_score'] = gs_fe_two.score(X_test_two, y_test_two)\n",
    "\n",
    "# Giving our index a numbering order (model_1, model_2, etc.)\n",
    "model_params_fe_two[f'model_{count_fe_two}'] = gs_fe_two.best_params_\n",
    "\n",
    "# Creating a dataframe from our model creations\n",
    "model_df_fe_two = pd.DataFrame.from_dict(model_params_fe_two, orient='index')\n",
    "\n",
    "# Visualize dataframe\n",
    "model_df_fe_two"
   ]
  },
  {
   "cell_type": "code",
   "execution_count": 89,
   "metadata": {},
   "outputs": [],
   "source": [
    "ada_final_model = AdaBoostClassifier(base_estimator=RandomForestClassifier(max_depth=4), learning_rate=0.90, n_estimators=90)"
   ]
  },
  {
   "cell_type": "code",
   "execution_count": 90,
   "metadata": {},
   "outputs": [
    {
     "data": {
      "text/plain": [
       "AdaBoostClassifier(base_estimator=RandomForestClassifier(max_depth=4),\n",
       "                   learning_rate=0.9, n_estimators=90)"
      ]
     },
     "execution_count": 90,
     "metadata": {},
     "output_type": "execute_result"
    }
   ],
   "source": [
    "ada_final_model.fit(X_train_two, y_train_two)"
   ]
  },
  {
   "cell_type": "code",
   "execution_count": 94,
   "metadata": {
    "scrolled": false
   },
   "outputs": [
    {
     "name": "stdout",
     "output_type": "stream",
     "text": [
      "Training Score: 0.887341058021959\n",
      "Testing Score: 0.8682634730538922\n"
     ]
    }
   ],
   "source": [
    "print(\"Training Score:\", ada_final_model.score(X_train_two, y_train_two))\n",
    "print(\"Testing Score:\", ada_final_model.score(X_test_two, y_test_two))"
   ]
  },
  {
   "cell_type": "markdown",
   "metadata": {},
   "source": [
    "### Read In Testing Data"
   ]
  },
  {
   "cell_type": "code",
   "execution_count": 166,
   "metadata": {
    "scrolled": true
   },
   "outputs": [
    {
     "data": {
      "text/html": [
       "<div>\n",
       "<style scoped>\n",
       "    .dataframe tbody tr th:only-of-type {\n",
       "        vertical-align: middle;\n",
       "    }\n",
       "\n",
       "    .dataframe tbody tr th {\n",
       "        vertical-align: top;\n",
       "    }\n",
       "\n",
       "    .dataframe thead th {\n",
       "        text-align: right;\n",
       "    }\n",
       "</style>\n",
       "<table border=\"1\" class=\"dataframe\">\n",
       "  <thead>\n",
       "    <tr style=\"text-align: right;\">\n",
       "      <th></th>\n",
       "      <th>age</th>\n",
       "      <th>workclass</th>\n",
       "      <th>fnlwgt</th>\n",
       "      <th>education</th>\n",
       "      <th>education-num</th>\n",
       "      <th>marital-status</th>\n",
       "      <th>occupation</th>\n",
       "      <th>relationship</th>\n",
       "      <th>sex</th>\n",
       "      <th>capital-gain</th>\n",
       "      <th>capital-loss</th>\n",
       "      <th>hours-per-week</th>\n",
       "      <th>native-country</th>\n",
       "    </tr>\n",
       "  </thead>\n",
       "  <tbody>\n",
       "    <tr>\n",
       "      <th>0</th>\n",
       "      <td>25</td>\n",
       "      <td>Private</td>\n",
       "      <td>226802</td>\n",
       "      <td>11th</td>\n",
       "      <td>7</td>\n",
       "      <td>Never-married</td>\n",
       "      <td>Machine-op-inspct</td>\n",
       "      <td>Own-child</td>\n",
       "      <td>Male</td>\n",
       "      <td>0</td>\n",
       "      <td>0</td>\n",
       "      <td>40</td>\n",
       "      <td>United-States</td>\n",
       "    </tr>\n",
       "    <tr>\n",
       "      <th>1</th>\n",
       "      <td>38</td>\n",
       "      <td>Private</td>\n",
       "      <td>89814</td>\n",
       "      <td>HS-grad</td>\n",
       "      <td>9</td>\n",
       "      <td>Married-civ-spouse</td>\n",
       "      <td>Farming-fishing</td>\n",
       "      <td>Husband</td>\n",
       "      <td>Male</td>\n",
       "      <td>0</td>\n",
       "      <td>0</td>\n",
       "      <td>50</td>\n",
       "      <td>United-States</td>\n",
       "    </tr>\n",
       "    <tr>\n",
       "      <th>2</th>\n",
       "      <td>28</td>\n",
       "      <td>Local-gov</td>\n",
       "      <td>336951</td>\n",
       "      <td>Assoc-acdm</td>\n",
       "      <td>12</td>\n",
       "      <td>Married-civ-spouse</td>\n",
       "      <td>Protective-serv</td>\n",
       "      <td>Husband</td>\n",
       "      <td>Male</td>\n",
       "      <td>0</td>\n",
       "      <td>0</td>\n",
       "      <td>40</td>\n",
       "      <td>United-States</td>\n",
       "    </tr>\n",
       "    <tr>\n",
       "      <th>3</th>\n",
       "      <td>44</td>\n",
       "      <td>Private</td>\n",
       "      <td>160323</td>\n",
       "      <td>Some-college</td>\n",
       "      <td>10</td>\n",
       "      <td>Married-civ-spouse</td>\n",
       "      <td>Machine-op-inspct</td>\n",
       "      <td>Husband</td>\n",
       "      <td>Male</td>\n",
       "      <td>7688</td>\n",
       "      <td>0</td>\n",
       "      <td>40</td>\n",
       "      <td>United-States</td>\n",
       "    </tr>\n",
       "    <tr>\n",
       "      <th>4</th>\n",
       "      <td>18</td>\n",
       "      <td>?</td>\n",
       "      <td>103497</td>\n",
       "      <td>Some-college</td>\n",
       "      <td>10</td>\n",
       "      <td>Never-married</td>\n",
       "      <td>?</td>\n",
       "      <td>Own-child</td>\n",
       "      <td>Female</td>\n",
       "      <td>0</td>\n",
       "      <td>0</td>\n",
       "      <td>30</td>\n",
       "      <td>United-States</td>\n",
       "    </tr>\n",
       "  </tbody>\n",
       "</table>\n",
       "</div>"
      ],
      "text/plain": [
       "   age   workclass  fnlwgt      education  education-num       marital-status  \\\n",
       "0   25     Private  226802           11th              7        Never-married   \n",
       "1   38     Private   89814        HS-grad              9   Married-civ-spouse   \n",
       "2   28   Local-gov  336951     Assoc-acdm             12   Married-civ-spouse   \n",
       "3   44     Private  160323   Some-college             10   Married-civ-spouse   \n",
       "4   18           ?  103497   Some-college             10        Never-married   \n",
       "\n",
       "           occupation relationship      sex  capital-gain  capital-loss  \\\n",
       "0   Machine-op-inspct    Own-child     Male             0             0   \n",
       "1     Farming-fishing      Husband     Male             0             0   \n",
       "2     Protective-serv      Husband     Male             0             0   \n",
       "3   Machine-op-inspct      Husband     Male          7688             0   \n",
       "4                   ?    Own-child   Female             0             0   \n",
       "\n",
       "   hours-per-week  native-country  \n",
       "0              40   United-States  \n",
       "1              50   United-States  \n",
       "2              40   United-States  \n",
       "3              40   United-States  \n",
       "4              30   United-States  "
      ]
     },
     "execution_count": 166,
     "metadata": {},
     "output_type": "execute_result"
    }
   ],
   "source": [
    "test_data = pd.read_csv('./data/test_data.csv')\n",
    "test_data.head()"
   ]
  },
  {
   "cell_type": "markdown",
   "metadata": {},
   "source": [
    "### Matching Testing Data With Cleaned Data"
   ]
  },
  {
   "cell_type": "code",
   "execution_count": 167,
   "metadata": {},
   "outputs": [],
   "source": [
    "# Stripping workclass and replacing ? with Not_available\n",
    "test_data['workclass'] = test_data['workclass'].str.strip().map(lambda x: 'Not_Available' if x==\"?\" else x)"
   ]
  },
  {
   "cell_type": "code",
   "execution_count": 172,
   "metadata": {},
   "outputs": [],
   "source": [
    "# Replacing ? in occupaton with Never Worked\n",
    "test_data['occupation'] = test_data['occupation'].replace(\" ?\", \"Never worked\")"
   ]
  },
  {
   "cell_type": "code",
   "execution_count": 173,
   "metadata": {},
   "outputs": [],
   "source": [
    "# Replacing ? in native_country with Unknown\n",
    "test_data['native-country'] = test_data['native-country'].replace(\" ?\", \"Unknown\")"
   ]
  },
  {
   "cell_type": "code",
   "execution_count": 174,
   "metadata": {},
   "outputs": [],
   "source": [
    "# Removing spaces in columns\n",
    "test_data['workclass'] = test_data['workclass'].map(lambda x: x.strip())\n",
    "test_data['native-country'] = test_data['native-country'].map(lambda x: x.strip())\n",
    "test_data['occupation'] = test_data['occupation'].map(lambda x: x.strip())\n",
    "test_data['relationship'] = test_data['relationship'].map(lambda x: x.strip())\n",
    "test_data['marital-status'] = test_data['marital-status'].map(lambda x: x.strip())\n",
    "test_data['education'] = test_data['education'].map(lambda x: x.strip())"
   ]
  },
  {
   "cell_type": "code",
   "execution_count": 175,
   "metadata": {},
   "outputs": [],
   "source": [
    "# Mapping sex\n",
    "test_data['sex'] = test_data['sex'].map({' Male'  : 0 , ' Female':1})"
   ]
  },
  {
   "cell_type": "code",
   "execution_count": 176,
   "metadata": {},
   "outputs": [],
   "source": [
    "# Dummify columns\n",
    "test_data = pd.get_dummies(data = test_data, columns = ['workclass', 'education', 'marital-status', 'occupation', 'relationship', 'native-country'], drop_first = True)"
   ]
  },
  {
   "cell_type": "code",
   "execution_count": 179,
   "metadata": {},
   "outputs": [],
   "source": [
    "# Drop workclass_not_available\n",
    "test_data.drop(columns = ['workclass_Not_Available'], inplace=True)"
   ]
  },
  {
   "cell_type": "code",
   "execution_count": 185,
   "metadata": {},
   "outputs": [],
   "source": [
    "# Renaming sex to is_female because mapped sex's as 0, 1 \n",
    "test_data = test_data.rename(columns = {'sex': 'is_female'})"
   ]
  },
  {
   "cell_type": "markdown",
   "metadata": {},
   "source": [
    "### Matching Columns Two DataSets"
   ]
  },
  {
   "cell_type": "code",
   "execution_count": 197,
   "metadata": {},
   "outputs": [],
   "source": [
    "# Finding where columns match between large_df and test_data\n",
    "match_cols = set(list(large_df.columns)).intersection(list(test_data.columns))"
   ]
  },
  {
   "cell_type": "code",
   "execution_count": 198,
   "metadata": {
    "scrolled": true
   },
   "outputs": [
    {
     "data": {
      "text/plain": [
       "{'age',\n",
       " 'capital-gain',\n",
       " 'capital-loss',\n",
       " 'education-num',\n",
       " 'education_11th',\n",
       " 'education_12th',\n",
       " 'education_1st-4th',\n",
       " 'education_5th-6th',\n",
       " 'education_7th-8th',\n",
       " 'education_9th',\n",
       " 'education_Assoc-acdm',\n",
       " 'education_Assoc-voc',\n",
       " 'education_Bachelors',\n",
       " 'education_Doctorate',\n",
       " 'education_HS-grad',\n",
       " 'education_Masters',\n",
       " 'education_Preschool',\n",
       " 'education_Prof-school',\n",
       " 'education_Some-college',\n",
       " 'fnlwgt',\n",
       " 'hours-per-week',\n",
       " 'is_female',\n",
       " 'marital-status_Married-AF-spouse',\n",
       " 'marital-status_Married-civ-spouse',\n",
       " 'marital-status_Married-spouse-absent',\n",
       " 'marital-status_Never-married',\n",
       " 'marital-status_Separated',\n",
       " 'marital-status_Widowed',\n",
       " 'native-country_Canada',\n",
       " 'native-country_China',\n",
       " 'native-country_Columbia',\n",
       " 'native-country_Cuba',\n",
       " 'native-country_Dominican-Republic',\n",
       " 'native-country_Ecuador',\n",
       " 'native-country_El-Salvador',\n",
       " 'native-country_England',\n",
       " 'native-country_France',\n",
       " 'native-country_Germany',\n",
       " 'native-country_Greece',\n",
       " 'native-country_Guatemala',\n",
       " 'native-country_Haiti',\n",
       " 'native-country_Honduras',\n",
       " 'native-country_Hong',\n",
       " 'native-country_Hungary',\n",
       " 'native-country_India',\n",
       " 'native-country_Iran',\n",
       " 'native-country_Ireland',\n",
       " 'native-country_Italy',\n",
       " 'native-country_Jamaica',\n",
       " 'native-country_Japan',\n",
       " 'native-country_Laos',\n",
       " 'native-country_Mexico',\n",
       " 'native-country_Nicaragua',\n",
       " 'native-country_Outlying-US(Guam-USVI-etc)',\n",
       " 'native-country_Peru',\n",
       " 'native-country_Philippines',\n",
       " 'native-country_Poland',\n",
       " 'native-country_Portugal',\n",
       " 'native-country_Puerto-Rico',\n",
       " 'native-country_Scotland',\n",
       " 'native-country_South',\n",
       " 'native-country_Taiwan',\n",
       " 'native-country_Thailand',\n",
       " 'native-country_Trinadad&Tobago',\n",
       " 'native-country_United-States',\n",
       " 'native-country_Unknown',\n",
       " 'native-country_Vietnam',\n",
       " 'native-country_Yugoslavia',\n",
       " 'occupation_Armed-Forces',\n",
       " 'occupation_Craft-repair',\n",
       " 'occupation_Exec-managerial',\n",
       " 'occupation_Farming-fishing',\n",
       " 'occupation_Handlers-cleaners',\n",
       " 'occupation_Machine-op-inspct',\n",
       " 'occupation_Never worked',\n",
       " 'occupation_Other-service',\n",
       " 'occupation_Priv-house-serv',\n",
       " 'occupation_Prof-specialty',\n",
       " 'occupation_Protective-serv',\n",
       " 'occupation_Sales',\n",
       " 'occupation_Tech-support',\n",
       " 'occupation_Transport-moving',\n",
       " 'relationship_Not-in-family',\n",
       " 'relationship_Other-relative',\n",
       " 'relationship_Own-child',\n",
       " 'relationship_Unmarried',\n",
       " 'relationship_Wife',\n",
       " 'workclass_Local-gov',\n",
       " 'workclass_Never-worked',\n",
       " 'workclass_Private',\n",
       " 'workclass_Self-emp-inc',\n",
       " 'workclass_Self-emp-not-inc',\n",
       " 'workclass_State-gov',\n",
       " 'workclass_Without-pay'}"
      ]
     },
     "execution_count": 198,
     "metadata": {},
     "output_type": "execute_result"
    }
   ],
   "source": [
    "# List of columns that are in both dataframes\n",
    "match_cols"
   ]
  },
  {
   "cell_type": "markdown",
   "metadata": {},
   "source": [
    "### Predictions"
   ]
  },
  {
   "cell_type": "code",
   "execution_count": 199,
   "metadata": {},
   "outputs": [],
   "source": [
    "sub_test = test_data[match_cols]\n",
    "# Setting X_three to where columns match\n",
    "X_three = large_df[match_cols]\n",
    "# Setting y_three to target prediction\n",
    "y_three = large_df['over_50k']"
   ]
  },
  {
   "cell_type": "code",
   "execution_count": 200,
   "metadata": {},
   "outputs": [],
   "source": [
    "X_train_three, X_test_three, y_train_three, y_test_three = train_test_split(X_three, y_three, \n",
    "                                                  random_state=42, \n",
    "                                                  stratify=y)"
   ]
  },
  {
   "cell_type": "code",
   "execution_count": 201,
   "metadata": {},
   "outputs": [],
   "source": [
    "# AdaBoost Final Model with parameters set using random forest\n",
    "ada_final_model = AdaBoostClassifier(base_estimator=RandomForestClassifier(max_depth=4), learning_rate=0.90, n_estimators=90)"
   ]
  },
  {
   "cell_type": "code",
   "execution_count": 202,
   "metadata": {},
   "outputs": [
    {
     "data": {
      "text/plain": [
       "AdaBoostClassifier(base_estimator=RandomForestClassifier(max_depth=4),\n",
       "                   learning_rate=0.9, n_estimators=90)"
      ]
     },
     "execution_count": 202,
     "metadata": {},
     "output_type": "execute_result"
    }
   ],
   "source": [
    "# Fitting final model on X_train_three and Y_train_three set above\n",
    "ada_final_model.fit(X_train_three, y_train_three)"
   ]
  },
  {
   "cell_type": "code",
   "execution_count": 203,
   "metadata": {},
   "outputs": [
    {
     "name": "stdout",
     "output_type": "stream",
     "text": [
      "Training Score: 0.8853013930477802\n",
      "Testing Score: 0.8686539963551159\n"
     ]
    }
   ],
   "source": [
    "# Printing training and testing scores of final model with X_train_three, y_train_three, X_test_three, and y_test_three\n",
    "print(\"Training Score:\", ada_final_model.score(X_train_three, y_train_three))\n",
    "print(\"Testing Score:\", ada_final_model.score(X_test_three, y_test_three))"
   ]
  },
  {
   "cell_type": "code",
   "execution_count": 205,
   "metadata": {},
   "outputs": [],
   "source": [
    "# Setting variable preds and predictions of sub_test\n",
    "preds = ada_final_model.predict(sub_test)"
   ]
  },
  {
   "cell_type": "code",
   "execution_count": 208,
   "metadata": {},
   "outputs": [],
   "source": [
    "# Setting pred_dataframe with column Predictions as preds\n",
    "pred_df = pd.DataFrame({'Predictions' : preds})"
   ]
  },
  {
   "cell_type": "code",
   "execution_count": 209,
   "metadata": {},
   "outputs": [
    {
     "data": {
      "text/html": [
       "<div>\n",
       "<style scoped>\n",
       "    .dataframe tbody tr th:only-of-type {\n",
       "        vertical-align: middle;\n",
       "    }\n",
       "\n",
       "    .dataframe tbody tr th {\n",
       "        vertical-align: top;\n",
       "    }\n",
       "\n",
       "    .dataframe thead th {\n",
       "        text-align: right;\n",
       "    }\n",
       "</style>\n",
       "<table border=\"1\" class=\"dataframe\">\n",
       "  <thead>\n",
       "    <tr style=\"text-align: right;\">\n",
       "      <th></th>\n",
       "      <th>Predictions</th>\n",
       "    </tr>\n",
       "  </thead>\n",
       "  <tbody>\n",
       "    <tr>\n",
       "      <th>0</th>\n",
       "      <td>0</td>\n",
       "    </tr>\n",
       "    <tr>\n",
       "      <th>1</th>\n",
       "      <td>0</td>\n",
       "    </tr>\n",
       "    <tr>\n",
       "      <th>2</th>\n",
       "      <td>0</td>\n",
       "    </tr>\n",
       "    <tr>\n",
       "      <th>3</th>\n",
       "      <td>1</td>\n",
       "    </tr>\n",
       "    <tr>\n",
       "      <th>4</th>\n",
       "      <td>0</td>\n",
       "    </tr>\n",
       "    <tr>\n",
       "      <th>...</th>\n",
       "      <td>...</td>\n",
       "    </tr>\n",
       "    <tr>\n",
       "      <th>16276</th>\n",
       "      <td>0</td>\n",
       "    </tr>\n",
       "    <tr>\n",
       "      <th>16277</th>\n",
       "      <td>0</td>\n",
       "    </tr>\n",
       "    <tr>\n",
       "      <th>16278</th>\n",
       "      <td>1</td>\n",
       "    </tr>\n",
       "    <tr>\n",
       "      <th>16279</th>\n",
       "      <td>0</td>\n",
       "    </tr>\n",
       "    <tr>\n",
       "      <th>16280</th>\n",
       "      <td>1</td>\n",
       "    </tr>\n",
       "  </tbody>\n",
       "</table>\n",
       "<p>16281 rows × 1 columns</p>\n",
       "</div>"
      ],
      "text/plain": [
       "       Predictions\n",
       "0                0\n",
       "1                0\n",
       "2                0\n",
       "3                1\n",
       "4                0\n",
       "...            ...\n",
       "16276            0\n",
       "16277            0\n",
       "16278            1\n",
       "16279            0\n",
       "16280            1\n",
       "\n",
       "[16281 rows x 1 columns]"
      ]
     },
     "execution_count": 209,
     "metadata": {},
     "output_type": "execute_result"
    }
   ],
   "source": [
    "# Visualizing pred_dataframe\n",
    "pred_df"
   ]
  },
  {
   "cell_type": "code",
   "execution_count": 210,
   "metadata": {},
   "outputs": [],
   "source": [
    "# Exporting pred dataframe to csv for sumbission!\n",
    "pred_df.to_csv('./data/7-group-submission.csv', index=False)"
   ]
  },
  {
   "cell_type": "markdown",
   "metadata": {},
   "source": [
    "### Export DataFrames to CSV"
   ]
  },
  {
   "cell_type": "code",
   "execution_count": 59,
   "metadata": {},
   "outputs": [],
   "source": [
    "# Save Random Forest model scores dataframe to data folder.\n",
    "#model_df.to_csv('./data/random_forest_scores.csv', index=False)"
   ]
  },
  {
   "cell_type": "code",
   "execution_count": 60,
   "metadata": {},
   "outputs": [],
   "source": [
    "# Save Random Forest adaboost model scores dataframe to data folder.\n",
    "#model_df_two.to_csv('./data/random_forest_adaboost_scores.csv', index=False)"
   ]
  }
 ],
 "metadata": {
  "kernelspec": {
   "display_name": "Python 3",
   "language": "python",
   "name": "python3"
  },
  "language_info": {
   "codemirror_mode": {
    "name": "ipython",
    "version": 3
   },
   "file_extension": ".py",
   "mimetype": "text/x-python",
   "name": "python",
   "nbconvert_exporter": "python",
   "pygments_lexer": "ipython3",
   "version": "3.7.9"
  }
 },
 "nbformat": 4,
 "nbformat_minor": 4
}
